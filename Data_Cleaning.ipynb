{
  "nbformat": 4,
  "nbformat_minor": 0,
  "metadata": {
    "colab": {
      "name": "Data Cleaning.ipynb",
      "provenance": [],
      "collapsed_sections": [],
      "mount_file_id": "1T3ZEwutNyWKBd0VTfIb9smACKdeUwOU-",
      "authorship_tag": "ABX9TyO/pyeFFSJPcnsMWmdVKB2r",
      "include_colab_link": true
    },
    "kernelspec": {
      "name": "python3",
      "display_name": "Python 3"
    },
    "language_info": {
      "name": "python"
    }
  },
  "cells": [
    {
      "cell_type": "markdown",
      "metadata": {
        "id": "view-in-github",
        "colab_type": "text"
      },
      "source": [
        "<a href=\"https://colab.research.google.com/github/aldiirianto/praktikum-machinelearning/blob/main/Data_Cleaning.ipynb\" target=\"_parent\"><img src=\"https://colab.research.google.com/assets/colab-badge.svg\" alt=\"Open In Colab\"/></a>"
      ]
    },
    {
      "cell_type": "markdown",
      "metadata": {
        "id": "-1-T_8CO9ASv"
      },
      "source": [
        "#**Panduan Cleaning Data Daftar Buku di British Library**"
      ]
    },
    {
      "cell_type": "markdown",
      "metadata": {
        "id": "00jB_yg1AyXi"
      },
      "source": [
        "Tujuan kegiatan kali ini adalah untuk melakukan cleaning data pada Daftar Buku yang terdapat di British Library.\n",
        "- Sumber Dataset : https://github.com/realpython/python-data-cleaning/tree/master/Datasets"
      ]
    },
    {
      "cell_type": "markdown",
      "metadata": {
        "id": "L3eCa81yBCwC"
      },
      "source": [
        "##**1. Data Exploration**"
      ]
    },
    {
      "cell_type": "code",
      "metadata": {
        "colab": {
          "base_uri": "https://localhost:8080/"
        },
        "id": "SoreaK0K7i7p",
        "outputId": "ddb536d0-1c40-4a90-85da-82d9a6f25122"
      },
      "source": [
        "import pandas as pd\n",
        "import numpy as np\n",
        "from functools import reduce\n",
        "\n",
        "#Mounted at Drive\n",
        "from google.colab import drive\n",
        "drive.mount('/content/drive')"
      ],
      "execution_count": 2,
      "outputs": [
        {
          "output_type": "stream",
          "name": "stdout",
          "text": [
            "Drive already mounted at /content/drive; to attempt to forcibly remount, call drive.mount(\"/content/drive\", force_remount=True).\n"
          ]
        }
      ]
    },
    {
      "cell_type": "code",
      "metadata": {
        "id": "DCXjCObK_kZI"
      },
      "source": [
        "#explore the dataset\n",
        "df = pd.read_csv('/content/drive/MyDrive/Machine Learning/dataset/BL-Flickr-Images-Book.csv')"
      ],
      "execution_count": 3,
      "outputs": []
    },
    {
      "cell_type": "code",
      "metadata": {
        "colab": {
          "base_uri": "https://localhost:8080/"
        },
        "id": "FbGTRYZ0BePu",
        "outputId": "a473c8ff-8a58-410b-f107-f3ed95c0bd84"
      },
      "source": [
        "df.shape"
      ],
      "execution_count": 4,
      "outputs": [
        {
          "output_type": "execute_result",
          "data": {
            "text/plain": [
              "(8287, 15)"
            ]
          },
          "metadata": {},
          "execution_count": 4
        }
      ]
    },
    {
      "cell_type": "code",
      "metadata": {
        "colab": {
          "base_uri": "https://localhost:8080/",
          "height": 513
        },
        "id": "BYTE09BdBlb8",
        "outputId": "65b7e0eb-3ce8-422e-c4d1-dca4ca03d612"
      },
      "source": [
        "df.head()"
      ],
      "execution_count": 5,
      "outputs": [
        {
          "output_type": "execute_result",
          "data": {
            "text/html": [
              "<div>\n",
              "<style scoped>\n",
              "    .dataframe tbody tr th:only-of-type {\n",
              "        vertical-align: middle;\n",
              "    }\n",
              "\n",
              "    .dataframe tbody tr th {\n",
              "        vertical-align: top;\n",
              "    }\n",
              "\n",
              "    .dataframe thead th {\n",
              "        text-align: right;\n",
              "    }\n",
              "</style>\n",
              "<table border=\"1\" class=\"dataframe\">\n",
              "  <thead>\n",
              "    <tr style=\"text-align: right;\">\n",
              "      <th></th>\n",
              "      <th>Identifier</th>\n",
              "      <th>Edition Statement</th>\n",
              "      <th>Place of Publication</th>\n",
              "      <th>Date of Publication</th>\n",
              "      <th>Publisher</th>\n",
              "      <th>Title</th>\n",
              "      <th>Author</th>\n",
              "      <th>Contributors</th>\n",
              "      <th>Corporate Author</th>\n",
              "      <th>Corporate Contributors</th>\n",
              "      <th>Former owner</th>\n",
              "      <th>Engraver</th>\n",
              "      <th>Issuance type</th>\n",
              "      <th>Flickr URL</th>\n",
              "      <th>Shelfmarks</th>\n",
              "    </tr>\n",
              "  </thead>\n",
              "  <tbody>\n",
              "    <tr>\n",
              "      <th>0</th>\n",
              "      <td>206</td>\n",
              "      <td>NaN</td>\n",
              "      <td>London</td>\n",
              "      <td>1879 [1878]</td>\n",
              "      <td>S. Tinsley &amp; Co.</td>\n",
              "      <td>Walter Forbes. [A novel.] By A. A</td>\n",
              "      <td>A. A.</td>\n",
              "      <td>FORBES, Walter.</td>\n",
              "      <td>NaN</td>\n",
              "      <td>NaN</td>\n",
              "      <td>NaN</td>\n",
              "      <td>NaN</td>\n",
              "      <td>monographic</td>\n",
              "      <td>http://www.flickr.com/photos/britishlibrary/ta...</td>\n",
              "      <td>British Library HMNTS 12641.b.30.</td>\n",
              "    </tr>\n",
              "    <tr>\n",
              "      <th>1</th>\n",
              "      <td>216</td>\n",
              "      <td>NaN</td>\n",
              "      <td>London; Virtue &amp; Yorston</td>\n",
              "      <td>1868</td>\n",
              "      <td>Virtue &amp; Co.</td>\n",
              "      <td>All for Greed. [A novel. The dedication signed...</td>\n",
              "      <td>A., A. A.</td>\n",
              "      <td>BLAZE DE BURY, Marie Pauline Rose - Baroness</td>\n",
              "      <td>NaN</td>\n",
              "      <td>NaN</td>\n",
              "      <td>NaN</td>\n",
              "      <td>NaN</td>\n",
              "      <td>monographic</td>\n",
              "      <td>http://www.flickr.com/photos/britishlibrary/ta...</td>\n",
              "      <td>British Library HMNTS 12626.cc.2.</td>\n",
              "    </tr>\n",
              "    <tr>\n",
              "      <th>2</th>\n",
              "      <td>218</td>\n",
              "      <td>NaN</td>\n",
              "      <td>London</td>\n",
              "      <td>1869</td>\n",
              "      <td>Bradbury, Evans &amp; Co.</td>\n",
              "      <td>Love the Avenger. By the author of “All for Gr...</td>\n",
              "      <td>A., A. A.</td>\n",
              "      <td>BLAZE DE BURY, Marie Pauline Rose - Baroness</td>\n",
              "      <td>NaN</td>\n",
              "      <td>NaN</td>\n",
              "      <td>NaN</td>\n",
              "      <td>NaN</td>\n",
              "      <td>monographic</td>\n",
              "      <td>http://www.flickr.com/photos/britishlibrary/ta...</td>\n",
              "      <td>British Library HMNTS 12625.dd.1.</td>\n",
              "    </tr>\n",
              "    <tr>\n",
              "      <th>3</th>\n",
              "      <td>472</td>\n",
              "      <td>NaN</td>\n",
              "      <td>London</td>\n",
              "      <td>1851</td>\n",
              "      <td>James Darling</td>\n",
              "      <td>Welsh Sketches, chiefly ecclesiastical, to the...</td>\n",
              "      <td>A., E. S.</td>\n",
              "      <td>Appleyard, Ernest Silvanus.</td>\n",
              "      <td>NaN</td>\n",
              "      <td>NaN</td>\n",
              "      <td>NaN</td>\n",
              "      <td>NaN</td>\n",
              "      <td>monographic</td>\n",
              "      <td>http://www.flickr.com/photos/britishlibrary/ta...</td>\n",
              "      <td>British Library HMNTS 10369.bbb.15.</td>\n",
              "    </tr>\n",
              "    <tr>\n",
              "      <th>4</th>\n",
              "      <td>480</td>\n",
              "      <td>A new edition, revised, etc.</td>\n",
              "      <td>London</td>\n",
              "      <td>1857</td>\n",
              "      <td>Wertheim &amp; Macintosh</td>\n",
              "      <td>[The World in which I live, and my place in it...</td>\n",
              "      <td>A., E. S.</td>\n",
              "      <td>BROOME, John Henry.</td>\n",
              "      <td>NaN</td>\n",
              "      <td>NaN</td>\n",
              "      <td>NaN</td>\n",
              "      <td>NaN</td>\n",
              "      <td>monographic</td>\n",
              "      <td>http://www.flickr.com/photos/britishlibrary/ta...</td>\n",
              "      <td>British Library HMNTS 9007.d.28.</td>\n",
              "    </tr>\n",
              "  </tbody>\n",
              "</table>\n",
              "</div>"
            ],
            "text/plain": [
              "   Identifier  ...                           Shelfmarks\n",
              "0         206  ...    British Library HMNTS 12641.b.30.\n",
              "1         216  ...    British Library HMNTS 12626.cc.2.\n",
              "2         218  ...    British Library HMNTS 12625.dd.1.\n",
              "3         472  ...  British Library HMNTS 10369.bbb.15.\n",
              "4         480  ...     British Library HMNTS 9007.d.28.\n",
              "\n",
              "[5 rows x 15 columns]"
            ]
          },
          "metadata": {},
          "execution_count": 5
        }
      ]
    },
    {
      "cell_type": "markdown",
      "metadata": {
        "id": "WfsDot56BsiI"
      },
      "source": [
        "Disini, dapat kita lihat bahwa terdapat **8.287** rows dan **15** columns yang terdapat pada dataset. Langkah selanjutnya yang akan kita lakukan adalah cleaning data."
      ]
    },
    {
      "cell_type": "markdown",
      "metadata": {
        "id": "y_z4CKphCHPv"
      },
      "source": [
        "##**2. Data Cleaning**"
      ]
    },
    {
      "cell_type": "code",
      "metadata": {
        "colab": {
          "base_uri": "https://localhost:8080/"
        },
        "id": "OPBet_WACJO1",
        "outputId": "857d7a67-7a02-41d8-a64d-49057e08eeaa"
      },
      "source": [
        "df.columns"
      ],
      "execution_count": 6,
      "outputs": [
        {
          "output_type": "execute_result",
          "data": {
            "text/plain": [
              "Index(['Identifier', 'Edition Statement', 'Place of Publication',\n",
              "       'Date of Publication', 'Publisher', 'Title', 'Author', 'Contributors',\n",
              "       'Corporate Author', 'Corporate Contributors', 'Former owner',\n",
              "       'Engraver', 'Issuance type', 'Flickr URL', 'Shelfmarks'],\n",
              "      dtype='object')"
            ]
          },
          "metadata": {},
          "execution_count": 6
        }
      ]
    },
    {
      "cell_type": "markdown",
      "metadata": {
        "id": "CizgDniUCNas"
      },
      "source": [
        "- remove unwanted columns"
      ]
    },
    {
      "cell_type": "code",
      "metadata": {
        "id": "i2gK_7nHCPjk"
      },
      "source": [
        "df.drop(['Edition Statement',\n",
        "           'Corporate Author',\n",
        "           'Corporate Contributors',\n",
        "           'Former owner',\n",
        "           'Engraver',\n",
        "           'Contributors',\n",
        "           'Issuance type',\n",
        "           'Shelfmarks'],axis=1,inplace=True) #do not execute two times"
      ],
      "execution_count": 7,
      "outputs": []
    },
    {
      "cell_type": "code",
      "metadata": {
        "colab": {
          "base_uri": "https://localhost:8080/",
          "height": 289
        },
        "id": "nhzSnS1RClSO",
        "outputId": "d268beae-c0e0-4ee1-f2de-72f3ac2c143d"
      },
      "source": [
        "df.head()"
      ],
      "execution_count": 8,
      "outputs": [
        {
          "output_type": "execute_result",
          "data": {
            "text/html": [
              "<div>\n",
              "<style scoped>\n",
              "    .dataframe tbody tr th:only-of-type {\n",
              "        vertical-align: middle;\n",
              "    }\n",
              "\n",
              "    .dataframe tbody tr th {\n",
              "        vertical-align: top;\n",
              "    }\n",
              "\n",
              "    .dataframe thead th {\n",
              "        text-align: right;\n",
              "    }\n",
              "</style>\n",
              "<table border=\"1\" class=\"dataframe\">\n",
              "  <thead>\n",
              "    <tr style=\"text-align: right;\">\n",
              "      <th></th>\n",
              "      <th>Identifier</th>\n",
              "      <th>Place of Publication</th>\n",
              "      <th>Date of Publication</th>\n",
              "      <th>Publisher</th>\n",
              "      <th>Title</th>\n",
              "      <th>Author</th>\n",
              "      <th>Flickr URL</th>\n",
              "    </tr>\n",
              "  </thead>\n",
              "  <tbody>\n",
              "    <tr>\n",
              "      <th>0</th>\n",
              "      <td>206</td>\n",
              "      <td>London</td>\n",
              "      <td>1879 [1878]</td>\n",
              "      <td>S. Tinsley &amp; Co.</td>\n",
              "      <td>Walter Forbes. [A novel.] By A. A</td>\n",
              "      <td>A. A.</td>\n",
              "      <td>http://www.flickr.com/photos/britishlibrary/ta...</td>\n",
              "    </tr>\n",
              "    <tr>\n",
              "      <th>1</th>\n",
              "      <td>216</td>\n",
              "      <td>London; Virtue &amp; Yorston</td>\n",
              "      <td>1868</td>\n",
              "      <td>Virtue &amp; Co.</td>\n",
              "      <td>All for Greed. [A novel. The dedication signed...</td>\n",
              "      <td>A., A. A.</td>\n",
              "      <td>http://www.flickr.com/photos/britishlibrary/ta...</td>\n",
              "    </tr>\n",
              "    <tr>\n",
              "      <th>2</th>\n",
              "      <td>218</td>\n",
              "      <td>London</td>\n",
              "      <td>1869</td>\n",
              "      <td>Bradbury, Evans &amp; Co.</td>\n",
              "      <td>Love the Avenger. By the author of “All for Gr...</td>\n",
              "      <td>A., A. A.</td>\n",
              "      <td>http://www.flickr.com/photos/britishlibrary/ta...</td>\n",
              "    </tr>\n",
              "    <tr>\n",
              "      <th>3</th>\n",
              "      <td>472</td>\n",
              "      <td>London</td>\n",
              "      <td>1851</td>\n",
              "      <td>James Darling</td>\n",
              "      <td>Welsh Sketches, chiefly ecclesiastical, to the...</td>\n",
              "      <td>A., E. S.</td>\n",
              "      <td>http://www.flickr.com/photos/britishlibrary/ta...</td>\n",
              "    </tr>\n",
              "    <tr>\n",
              "      <th>4</th>\n",
              "      <td>480</td>\n",
              "      <td>London</td>\n",
              "      <td>1857</td>\n",
              "      <td>Wertheim &amp; Macintosh</td>\n",
              "      <td>[The World in which I live, and my place in it...</td>\n",
              "      <td>A., E. S.</td>\n",
              "      <td>http://www.flickr.com/photos/britishlibrary/ta...</td>\n",
              "    </tr>\n",
              "  </tbody>\n",
              "</table>\n",
              "</div>"
            ],
            "text/plain": [
              "   Identifier  ...                                         Flickr URL\n",
              "0         206  ...  http://www.flickr.com/photos/britishlibrary/ta...\n",
              "1         216  ...  http://www.flickr.com/photos/britishlibrary/ta...\n",
              "2         218  ...  http://www.flickr.com/photos/britishlibrary/ta...\n",
              "3         472  ...  http://www.flickr.com/photos/britishlibrary/ta...\n",
              "4         480  ...  http://www.flickr.com/photos/britishlibrary/ta...\n",
              "\n",
              "[5 rows x 7 columns]"
            ]
          },
          "metadata": {},
          "execution_count": 8
        }
      ]
    },
    {
      "cell_type": "code",
      "metadata": {
        "colab": {
          "base_uri": "https://localhost:8080/"
        },
        "id": "KBpei2sMD4GC",
        "outputId": "a32437bd-968b-40e2-93d8-d25a86ddd5f6"
      },
      "source": [
        "df.shape"
      ],
      "execution_count": 9,
      "outputs": [
        {
          "output_type": "execute_result",
          "data": {
            "text/plain": [
              "(8287, 7)"
            ]
          },
          "metadata": {},
          "execution_count": 9
        }
      ]
    },
    {
      "cell_type": "markdown",
      "metadata": {
        "id": "OesquO1ZDm-A"
      },
      "source": [
        "Dapat dilihat bahwa, kolom yang tersisa setelah dilakukan pembersihan unwanted columns adalah **6** kolom"
      ]
    },
    {
      "cell_type": "markdown",
      "metadata": {
        "id": "oWEnRpDvDIXv"
      },
      "source": [
        "- setting the index of the dataset"
      ]
    },
    {
      "cell_type": "code",
      "metadata": {
        "colab": {
          "base_uri": "https://localhost:8080/",
          "height": 320
        },
        "id": "mk0mDAWmDcFJ",
        "outputId": "6ce855f6-8f10-4bc4-a766-841dc3de7c9e"
      },
      "source": [
        "df.set_index('Identifier', inplace = True)\n",
        "df.head()"
      ],
      "execution_count": 10,
      "outputs": [
        {
          "output_type": "execute_result",
          "data": {
            "text/html": [
              "<div>\n",
              "<style scoped>\n",
              "    .dataframe tbody tr th:only-of-type {\n",
              "        vertical-align: middle;\n",
              "    }\n",
              "\n",
              "    .dataframe tbody tr th {\n",
              "        vertical-align: top;\n",
              "    }\n",
              "\n",
              "    .dataframe thead th {\n",
              "        text-align: right;\n",
              "    }\n",
              "</style>\n",
              "<table border=\"1\" class=\"dataframe\">\n",
              "  <thead>\n",
              "    <tr style=\"text-align: right;\">\n",
              "      <th></th>\n",
              "      <th>Place of Publication</th>\n",
              "      <th>Date of Publication</th>\n",
              "      <th>Publisher</th>\n",
              "      <th>Title</th>\n",
              "      <th>Author</th>\n",
              "      <th>Flickr URL</th>\n",
              "    </tr>\n",
              "    <tr>\n",
              "      <th>Identifier</th>\n",
              "      <th></th>\n",
              "      <th></th>\n",
              "      <th></th>\n",
              "      <th></th>\n",
              "      <th></th>\n",
              "      <th></th>\n",
              "    </tr>\n",
              "  </thead>\n",
              "  <tbody>\n",
              "    <tr>\n",
              "      <th>206</th>\n",
              "      <td>London</td>\n",
              "      <td>1879 [1878]</td>\n",
              "      <td>S. Tinsley &amp; Co.</td>\n",
              "      <td>Walter Forbes. [A novel.] By A. A</td>\n",
              "      <td>A. A.</td>\n",
              "      <td>http://www.flickr.com/photos/britishlibrary/ta...</td>\n",
              "    </tr>\n",
              "    <tr>\n",
              "      <th>216</th>\n",
              "      <td>London; Virtue &amp; Yorston</td>\n",
              "      <td>1868</td>\n",
              "      <td>Virtue &amp; Co.</td>\n",
              "      <td>All for Greed. [A novel. The dedication signed...</td>\n",
              "      <td>A., A. A.</td>\n",
              "      <td>http://www.flickr.com/photos/britishlibrary/ta...</td>\n",
              "    </tr>\n",
              "    <tr>\n",
              "      <th>218</th>\n",
              "      <td>London</td>\n",
              "      <td>1869</td>\n",
              "      <td>Bradbury, Evans &amp; Co.</td>\n",
              "      <td>Love the Avenger. By the author of “All for Gr...</td>\n",
              "      <td>A., A. A.</td>\n",
              "      <td>http://www.flickr.com/photos/britishlibrary/ta...</td>\n",
              "    </tr>\n",
              "    <tr>\n",
              "      <th>472</th>\n",
              "      <td>London</td>\n",
              "      <td>1851</td>\n",
              "      <td>James Darling</td>\n",
              "      <td>Welsh Sketches, chiefly ecclesiastical, to the...</td>\n",
              "      <td>A., E. S.</td>\n",
              "      <td>http://www.flickr.com/photos/britishlibrary/ta...</td>\n",
              "    </tr>\n",
              "    <tr>\n",
              "      <th>480</th>\n",
              "      <td>London</td>\n",
              "      <td>1857</td>\n",
              "      <td>Wertheim &amp; Macintosh</td>\n",
              "      <td>[The World in which I live, and my place in it...</td>\n",
              "      <td>A., E. S.</td>\n",
              "      <td>http://www.flickr.com/photos/britishlibrary/ta...</td>\n",
              "    </tr>\n",
              "  </tbody>\n",
              "</table>\n",
              "</div>"
            ],
            "text/plain": [
              "                Place of Publication  ...                                         Flickr URL\n",
              "Identifier                            ...                                                   \n",
              "206                           London  ...  http://www.flickr.com/photos/britishlibrary/ta...\n",
              "216         London; Virtue & Yorston  ...  http://www.flickr.com/photos/britishlibrary/ta...\n",
              "218                           London  ...  http://www.flickr.com/photos/britishlibrary/ta...\n",
              "472                           London  ...  http://www.flickr.com/photos/britishlibrary/ta...\n",
              "480                           London  ...  http://www.flickr.com/photos/britishlibrary/ta...\n",
              "\n",
              "[5 rows x 6 columns]"
            ]
          },
          "metadata": {},
          "execution_count": 10
        }
      ]
    },
    {
      "cell_type": "markdown",
      "metadata": {
        "id": "FhgzAsRmELpj"
      },
      "source": [
        "Pemberian **index** pada kolom 'Identifier' dilakukan untuk memudahkan proses pencarian data yang akan dibutuhkan."
      ]
    },
    {
      "cell_type": "markdown",
      "metadata": {
        "id": "fqPI-qplEs3L"
      },
      "source": [
        "- cleaning unwanted character pada kolom 'Date of Publication' "
      ]
    },
    {
      "cell_type": "code",
      "metadata": {
        "colab": {
          "base_uri": "https://localhost:8080/"
        },
        "id": "YEcCvZhmE1hW",
        "outputId": "1c0c0509-18a2-44ee-f721-ef4b4e987c32"
      },
      "source": [
        "df['Date of Publication'].head(25)"
      ],
      "execution_count": 11,
      "outputs": [
        {
          "output_type": "execute_result",
          "data": {
            "text/plain": [
              "Identifier\n",
              "206            1879 [1878]\n",
              "216                   1868\n",
              "218                   1869\n",
              "472                   1851\n",
              "480                   1857\n",
              "481                   1875\n",
              "519                   1872\n",
              "667                    NaN\n",
              "874                   1676\n",
              "1143                  1679\n",
              "1280                  1802\n",
              "1808                  1859\n",
              "1905                  1888\n",
              "1929           1839, 38-54\n",
              "2836                  1897\n",
              "2854                  1865\n",
              "2956               1860-63\n",
              "2957                  1873\n",
              "3017                  1866\n",
              "3131                  1899\n",
              "4598                  1814\n",
              "4884                  1820\n",
              "4976                  1800\n",
              "5382    1847, 48 [1846-48]\n",
              "5385               [1897?]\n",
              "Name: Date of Publication, dtype: object"
            ]
          },
          "metadata": {},
          "execution_count": 11
        }
      ]
    },
    {
      "cell_type": "code",
      "metadata": {
        "id": "EvAFI9m1E76_"
      },
      "source": [
        "unwanted_characters = ['[', ',', '-']\n",
        "\n",
        "def clean_dates(item):\n",
        "    dop= str(item.loc['Date of Publication'])\n",
        "    \n",
        "    if dop == 'nan' or dop[0] == '[':\n",
        "        return np.NaN\n",
        "    \n",
        "    for character in unwanted_characters:\n",
        "        if character in dop:\n",
        "            character_index = dop.find(character)\n",
        "            dop = dop[:character_index]\n",
        "    \n",
        "    return dop\n",
        "\n",
        "df['Date of Publication'] = df.apply(clean_dates, axis = 1)"
      ],
      "execution_count": 12,
      "outputs": []
    },
    {
      "cell_type": "code",
      "metadata": {
        "colab": {
          "base_uri": "https://localhost:8080/"
        },
        "id": "Q9hYWr0OE-v0",
        "outputId": "c945b6bf-c743-47ea-f4df-810ac2f5c22b"
      },
      "source": [
        "df['Date of Publication'].head(25)"
      ],
      "execution_count": 13,
      "outputs": [
        {
          "output_type": "execute_result",
          "data": {
            "text/plain": [
              "Identifier\n",
              "206     1879 \n",
              "216      1868\n",
              "218      1869\n",
              "472      1851\n",
              "480      1857\n",
              "481      1875\n",
              "519      1872\n",
              "667       NaN\n",
              "874      1676\n",
              "1143     1679\n",
              "1280     1802\n",
              "1808     1859\n",
              "1905     1888\n",
              "1929     1839\n",
              "2836     1897\n",
              "2854     1865\n",
              "2956     1860\n",
              "2957     1873\n",
              "3017     1866\n",
              "3131     1899\n",
              "4598     1814\n",
              "4884     1820\n",
              "4976     1800\n",
              "5382     1847\n",
              "5385      NaN\n",
              "Name: Date of Publication, dtype: object"
            ]
          },
          "metadata": {},
          "execution_count": 13
        }
      ]
    },
    {
      "cell_type": "markdown",
      "metadata": {
        "id": "b9Z2Yo2nFiKx"
      },
      "source": [
        "Dapat dilihat bahwa, data yang terdapat pada kolom 'Date of Publication' telah dibersihkan dari karakter - karakter yang tidak dibutuhkan."
      ]
    },
    {
      "cell_type": "markdown",
      "metadata": {
        "id": "hJkdc4m8GBYK"
      },
      "source": [
        "- cleaning unwanted character 'Author' "
      ]
    },
    {
      "cell_type": "code",
      "metadata": {
        "colab": {
          "base_uri": "https://localhost:8080/"
        },
        "id": "a1vJ62RGGetS",
        "outputId": "11d5edb0-7150-4380-a81b-e710f6c2fd31"
      },
      "source": [
        "df['Author'].head(25)"
      ],
      "execution_count": 14,
      "outputs": [
        {
          "output_type": "execute_result",
          "data": {
            "text/plain": [
              "Identifier\n",
              "206                                                 A. A.\n",
              "216                                             A., A. A.\n",
              "218                                             A., A. A.\n",
              "472                                             A., E. S.\n",
              "480                                             A., E. S.\n",
              "481                                             A., E. S.\n",
              "519                                             A., F. E.\n",
              "667                                         A., J.|A., J.\n",
              "874                                                Remaʿ.\n",
              "1143                                               A., T.\n",
              "1280                                                  NaN\n",
              "1808                                         AALL, Jacob.\n",
              "1905    AAR, Ermanno - pseud. [i.e. Luigi Giuseppe Oro...\n",
              "1929                                                  NaN\n",
              "2836                            ABATE, Giovanni Agostino.\n",
              "2854                                    ABATI, Francesco.\n",
              "2956                        ABBADIE, Antoine Thompson d'.\n",
              "2957                        ABBADIE, Antoine Thompson d'.\n",
              "3017    ABBAD Y LASIERRA, Agustín Íñigo - Bishop of...\n",
              "3131                                     ABBATT, William.\n",
              "4598                               ABBOTT, Thomas Eastoe.\n",
              "4884                                                  NaN\n",
              "4976                                                  NaN\n",
              "5382                           A'BECKETT, Gilbert Abbott.\n",
              "5385                           A'BECKETT, Gilbert Abbott.\n",
              "Name: Author, dtype: object"
            ]
          },
          "metadata": {},
          "execution_count": 14
        }
      ]
    },
    {
      "cell_type": "code",
      "metadata": {
        "id": "9wxZQMjLF4Qv"
      },
      "source": [
        "def clean_author_names(author):\n",
        "    \n",
        "    author = str(author)\n",
        "    \n",
        "    if author == 'nan':\n",
        "        return 'NaN'\n",
        "    \n",
        "    author = author.split(',')\n",
        "\n",
        "    if len(author) == 1:\n",
        "        name = filter(lambda x: x.isalpha(), author[0])\n",
        "        return reduce(lambda x, y: x + y, name)\n",
        "    \n",
        "    last_name, first_name = author[0], author[1]\n",
        "\n",
        "    first_name = first_name[:first_name.find('-')] if '-' in first_name else first_name\n",
        "    \n",
        "    if first_name.endswith(('.', '.|')):\n",
        "        parts = first_name.split('.')\n",
        "        \n",
        "        if len(parts) > 1:\n",
        "            first_occurence = first_name.find('.')\n",
        "            final_occurence = first_name.find('.', first_occurence + 1)\n",
        "            first_name = first_name[:final_occurence]\n",
        "        else:\n",
        "            first_name = first_name[:first_name.find('.')]\n",
        "    \n",
        "    last_name = last_name.capitalize()\n",
        "    \n",
        "    return f'{first_name} {last_name}'\n",
        "\n",
        "\n",
        "df['Author'] = df['Author'].apply(clean_author_names)"
      ],
      "execution_count": 15,
      "outputs": []
    },
    {
      "cell_type": "code",
      "metadata": {
        "colab": {
          "base_uri": "https://localhost:8080/"
        },
        "id": "ucjB4eIbGp0q",
        "outputId": "50736857-90f1-4559-a4ff-be853ebc00f9"
      },
      "source": [
        "df['Author'].head(25)"
      ],
      "execution_count": 16,
      "outputs": [
        {
          "output_type": "execute_result",
          "data": {
            "text/plain": [
              "Identifier\n",
              "206                                      AA\n",
              "216                                 A. A A.\n",
              "218                                 A. A A.\n",
              "472                                 E. S A.\n",
              "480                                 E. S A.\n",
              "481                                 E. S A.\n",
              "519                                 F. E A.\n",
              "667                                 J.|A A.\n",
              "874                                   Remaʿ\n",
              "1143                                   T A.\n",
              "1280                                    NaN\n",
              "1808                             Jacob Aall\n",
              "1905                           Ermanno  Aar\n",
              "1929                                    NaN\n",
              "2836                Giovanni Agostino Abate\n",
              "2854                        Francesco Abati\n",
              "2956            Antoine Thompson d' Abbadie\n",
              "2957            Antoine Thompson d' Abbadie\n",
              "3017     Agustín Íñigo  Abbad y lasierra\n",
              "3131                         William Abbatt\n",
              "4598                   Thomas Eastoe Abbott\n",
              "4884                                    NaN\n",
              "4976                                    NaN\n",
              "5382               Gilbert Abbott A'beckett\n",
              "5385               Gilbert Abbott A'beckett\n",
              "Name: Author, dtype: object"
            ]
          },
          "metadata": {},
          "execution_count": 16
        }
      ]
    },
    {
      "cell_type": "code",
      "metadata": {
        "colab": {
          "base_uri": "https://localhost:8080/",
          "height": 320
        },
        "id": "W_FOnAtmHE7W",
        "outputId": "fddc895b-b869-41ba-edda-0f6c932e2095"
      },
      "source": [
        "df.head()"
      ],
      "execution_count": 17,
      "outputs": [
        {
          "output_type": "execute_result",
          "data": {
            "text/html": [
              "<div>\n",
              "<style scoped>\n",
              "    .dataframe tbody tr th:only-of-type {\n",
              "        vertical-align: middle;\n",
              "    }\n",
              "\n",
              "    .dataframe tbody tr th {\n",
              "        vertical-align: top;\n",
              "    }\n",
              "\n",
              "    .dataframe thead th {\n",
              "        text-align: right;\n",
              "    }\n",
              "</style>\n",
              "<table border=\"1\" class=\"dataframe\">\n",
              "  <thead>\n",
              "    <tr style=\"text-align: right;\">\n",
              "      <th></th>\n",
              "      <th>Place of Publication</th>\n",
              "      <th>Date of Publication</th>\n",
              "      <th>Publisher</th>\n",
              "      <th>Title</th>\n",
              "      <th>Author</th>\n",
              "      <th>Flickr URL</th>\n",
              "    </tr>\n",
              "    <tr>\n",
              "      <th>Identifier</th>\n",
              "      <th></th>\n",
              "      <th></th>\n",
              "      <th></th>\n",
              "      <th></th>\n",
              "      <th></th>\n",
              "      <th></th>\n",
              "    </tr>\n",
              "  </thead>\n",
              "  <tbody>\n",
              "    <tr>\n",
              "      <th>206</th>\n",
              "      <td>London</td>\n",
              "      <td>1879</td>\n",
              "      <td>S. Tinsley &amp; Co.</td>\n",
              "      <td>Walter Forbes. [A novel.] By A. A</td>\n",
              "      <td>AA</td>\n",
              "      <td>http://www.flickr.com/photos/britishlibrary/ta...</td>\n",
              "    </tr>\n",
              "    <tr>\n",
              "      <th>216</th>\n",
              "      <td>London; Virtue &amp; Yorston</td>\n",
              "      <td>1868</td>\n",
              "      <td>Virtue &amp; Co.</td>\n",
              "      <td>All for Greed. [A novel. The dedication signed...</td>\n",
              "      <td>A. A A.</td>\n",
              "      <td>http://www.flickr.com/photos/britishlibrary/ta...</td>\n",
              "    </tr>\n",
              "    <tr>\n",
              "      <th>218</th>\n",
              "      <td>London</td>\n",
              "      <td>1869</td>\n",
              "      <td>Bradbury, Evans &amp; Co.</td>\n",
              "      <td>Love the Avenger. By the author of “All for Gr...</td>\n",
              "      <td>A. A A.</td>\n",
              "      <td>http://www.flickr.com/photos/britishlibrary/ta...</td>\n",
              "    </tr>\n",
              "    <tr>\n",
              "      <th>472</th>\n",
              "      <td>London</td>\n",
              "      <td>1851</td>\n",
              "      <td>James Darling</td>\n",
              "      <td>Welsh Sketches, chiefly ecclesiastical, to the...</td>\n",
              "      <td>E. S A.</td>\n",
              "      <td>http://www.flickr.com/photos/britishlibrary/ta...</td>\n",
              "    </tr>\n",
              "    <tr>\n",
              "      <th>480</th>\n",
              "      <td>London</td>\n",
              "      <td>1857</td>\n",
              "      <td>Wertheim &amp; Macintosh</td>\n",
              "      <td>[The World in which I live, and my place in it...</td>\n",
              "      <td>E. S A.</td>\n",
              "      <td>http://www.flickr.com/photos/britishlibrary/ta...</td>\n",
              "    </tr>\n",
              "  </tbody>\n",
              "</table>\n",
              "</div>"
            ],
            "text/plain": [
              "                Place of Publication  ...                                         Flickr URL\n",
              "Identifier                            ...                                                   \n",
              "206                           London  ...  http://www.flickr.com/photos/britishlibrary/ta...\n",
              "216         London; Virtue & Yorston  ...  http://www.flickr.com/photos/britishlibrary/ta...\n",
              "218                           London  ...  http://www.flickr.com/photos/britishlibrary/ta...\n",
              "472                           London  ...  http://www.flickr.com/photos/britishlibrary/ta...\n",
              "480                           London  ...  http://www.flickr.com/photos/britishlibrary/ta...\n",
              "\n",
              "[5 rows x 6 columns]"
            ]
          },
          "metadata": {},
          "execution_count": 17
        }
      ]
    },
    {
      "cell_type": "markdown",
      "metadata": {
        "id": "YT3brFUBHTEr"
      },
      "source": [
        "Dapat dilihat bahwa, data yang terdapat pada kolom 'Author' telah dibersihkan dari karakter - karakter yang tidak dibutuhkan."
      ]
    },
    {
      "cell_type": "markdown",
      "metadata": {
        "id": "lNxNhTifKBBr"
      },
      "source": [
        "- cleaning unwanted character 'Place of Publication' "
      ]
    },
    {
      "cell_type": "code",
      "metadata": {
        "colab": {
          "base_uri": "https://localhost:8080/"
        },
        "id": "AFf3q1URKYkU",
        "outputId": "9694971c-6c49-4f8d-ae8c-7a25c09dcfed"
      },
      "source": [
        "df['Place of Publication'].head()"
      ],
      "execution_count": 18,
      "outputs": [
        {
          "output_type": "execute_result",
          "data": {
            "text/plain": [
              "Identifier\n",
              "206                      London\n",
              "216    London; Virtue & Yorston\n",
              "218                      London\n",
              "472                      London\n",
              "480                      London\n",
              "Name: Place of Publication, dtype: object"
            ]
          },
          "metadata": {},
          "execution_count": 18
        }
      ]
    },
    {
      "cell_type": "code",
      "metadata": {
        "id": "d7WC8r9WKTXV"
      },
      "source": [
        "pub = df['Place of Publication']\n",
        "df['Place of Publication'] = np.where(pub.str.contains('London'), 'London',\n",
        "    np.where(pub.str.contains('Oxford'), 'Oxford',\n",
        "        np.where(pub.eq('Newcastle upon Tyne'),\n",
        "            'Newcastle-upon-Tyne', df['Place of Publication'])))"
      ],
      "execution_count": 20,
      "outputs": []
    },
    {
      "cell_type": "code",
      "metadata": {
        "colab": {
          "base_uri": "https://localhost:8080/"
        },
        "id": "sbgG1BJCKhYR",
        "outputId": "22448e44-944b-4ad2-b54c-160ee890bcad"
      },
      "source": [
        "df['Place of Publication'].head()"
      ],
      "execution_count": 21,
      "outputs": [
        {
          "output_type": "execute_result",
          "data": {
            "text/plain": [
              "Identifier\n",
              "206    London\n",
              "216    London\n",
              "218    London\n",
              "472    London\n",
              "480    London\n",
              "Name: Place of Publication, dtype: object"
            ]
          },
          "metadata": {},
          "execution_count": 21
        }
      ]
    },
    {
      "cell_type": "markdown",
      "metadata": {
        "id": "1XcghDoHLg8t"
      },
      "source": [
        "Dapat dilihat bahwa, data yang terdapat pada kolom 'Place of Publication' telah dibersihkan dari karakter - karakter yang tidak dibutuhkan."
      ]
    },
    {
      "cell_type": "code",
      "metadata": {
        "colab": {
          "base_uri": "https://localhost:8080/",
          "height": 620
        },
        "id": "ssa5yFs7Lu36",
        "outputId": "855529a1-144c-4422-cf94-93e02077cf82"
      },
      "source": [
        "df"
      ],
      "execution_count": 22,
      "outputs": [
        {
          "output_type": "execute_result",
          "data": {
            "text/html": [
              "<div>\n",
              "<style scoped>\n",
              "    .dataframe tbody tr th:only-of-type {\n",
              "        vertical-align: middle;\n",
              "    }\n",
              "\n",
              "    .dataframe tbody tr th {\n",
              "        vertical-align: top;\n",
              "    }\n",
              "\n",
              "    .dataframe thead th {\n",
              "        text-align: right;\n",
              "    }\n",
              "</style>\n",
              "<table border=\"1\" class=\"dataframe\">\n",
              "  <thead>\n",
              "    <tr style=\"text-align: right;\">\n",
              "      <th></th>\n",
              "      <th>Place of Publication</th>\n",
              "      <th>Date of Publication</th>\n",
              "      <th>Publisher</th>\n",
              "      <th>Title</th>\n",
              "      <th>Author</th>\n",
              "      <th>Flickr URL</th>\n",
              "    </tr>\n",
              "    <tr>\n",
              "      <th>Identifier</th>\n",
              "      <th></th>\n",
              "      <th></th>\n",
              "      <th></th>\n",
              "      <th></th>\n",
              "      <th></th>\n",
              "      <th></th>\n",
              "    </tr>\n",
              "  </thead>\n",
              "  <tbody>\n",
              "    <tr>\n",
              "      <th>206</th>\n",
              "      <td>London</td>\n",
              "      <td>1879</td>\n",
              "      <td>S. Tinsley &amp; Co.</td>\n",
              "      <td>Walter Forbes. [A novel.] By A. A</td>\n",
              "      <td>AA</td>\n",
              "      <td>http://www.flickr.com/photos/britishlibrary/ta...</td>\n",
              "    </tr>\n",
              "    <tr>\n",
              "      <th>216</th>\n",
              "      <td>London</td>\n",
              "      <td>1868</td>\n",
              "      <td>Virtue &amp; Co.</td>\n",
              "      <td>All for Greed. [A novel. The dedication signed...</td>\n",
              "      <td>A. A A.</td>\n",
              "      <td>http://www.flickr.com/photos/britishlibrary/ta...</td>\n",
              "    </tr>\n",
              "    <tr>\n",
              "      <th>218</th>\n",
              "      <td>London</td>\n",
              "      <td>1869</td>\n",
              "      <td>Bradbury, Evans &amp; Co.</td>\n",
              "      <td>Love the Avenger. By the author of “All for Gr...</td>\n",
              "      <td>A. A A.</td>\n",
              "      <td>http://www.flickr.com/photos/britishlibrary/ta...</td>\n",
              "    </tr>\n",
              "    <tr>\n",
              "      <th>472</th>\n",
              "      <td>London</td>\n",
              "      <td>1851</td>\n",
              "      <td>James Darling</td>\n",
              "      <td>Welsh Sketches, chiefly ecclesiastical, to the...</td>\n",
              "      <td>E. S A.</td>\n",
              "      <td>http://www.flickr.com/photos/britishlibrary/ta...</td>\n",
              "    </tr>\n",
              "    <tr>\n",
              "      <th>480</th>\n",
              "      <td>London</td>\n",
              "      <td>1857</td>\n",
              "      <td>Wertheim &amp; Macintosh</td>\n",
              "      <td>[The World in which I live, and my place in it...</td>\n",
              "      <td>E. S A.</td>\n",
              "      <td>http://www.flickr.com/photos/britishlibrary/ta...</td>\n",
              "    </tr>\n",
              "    <tr>\n",
              "      <th>...</th>\n",
              "      <td>...</td>\n",
              "      <td>...</td>\n",
              "      <td>...</td>\n",
              "      <td>...</td>\n",
              "      <td>...</td>\n",
              "      <td>...</td>\n",
              "    </tr>\n",
              "    <tr>\n",
              "      <th>4158088</th>\n",
              "      <td>London</td>\n",
              "      <td>1838</td>\n",
              "      <td>NaN</td>\n",
              "      <td>The Parochial History of Cornwall, founded on,...</td>\n",
              "      <td>afterwards GILBERT Giddy</td>\n",
              "      <td>http://www.flickr.com/photos/britishlibrary/ta...</td>\n",
              "    </tr>\n",
              "    <tr>\n",
              "      <th>4158128</th>\n",
              "      <td>Derby</td>\n",
              "      <td>1831</td>\n",
              "      <td>M. Mozley &amp; Son</td>\n",
              "      <td>The History and Gazetteer of the County of Der...</td>\n",
              "      <td>Stephen  Glover</td>\n",
              "      <td>http://www.flickr.com/photos/britishlibrary/ta...</td>\n",
              "    </tr>\n",
              "    <tr>\n",
              "      <th>4159563</th>\n",
              "      <td>London</td>\n",
              "      <td>NaN</td>\n",
              "      <td>T. Cadell and W. Davies</td>\n",
              "      <td>Magna Britannia; being a concise topographical...</td>\n",
              "      <td>Daniel  Lysons</td>\n",
              "      <td>http://www.flickr.com/photos/britishlibrary/ta...</td>\n",
              "    </tr>\n",
              "    <tr>\n",
              "      <th>4159587</th>\n",
              "      <td>Newcastle-upon-Tyne</td>\n",
              "      <td>1834</td>\n",
              "      <td>Mackenzie &amp; Dent</td>\n",
              "      <td>An historical, topographical and descriptive v...</td>\n",
              "      <td>E. (Eneas) Mackenzie</td>\n",
              "      <td>http://www.flickr.com/photos/britishlibrary/ta...</td>\n",
              "    </tr>\n",
              "    <tr>\n",
              "      <th>4160339</th>\n",
              "      <td>London</td>\n",
              "      <td>1834</td>\n",
              "      <td>NaN</td>\n",
              "      <td>Collectanea Topographica et Genealogica. [Firs...</td>\n",
              "      <td>NaN</td>\n",
              "      <td>http://www.flickr.com/photos/britishlibrary/ta...</td>\n",
              "    </tr>\n",
              "  </tbody>\n",
              "</table>\n",
              "<p>8287 rows × 6 columns</p>\n",
              "</div>"
            ],
            "text/plain": [
              "           Place of Publication  ...                                         Flickr URL\n",
              "Identifier                       ...                                                   \n",
              "206                      London  ...  http://www.flickr.com/photos/britishlibrary/ta...\n",
              "216                      London  ...  http://www.flickr.com/photos/britishlibrary/ta...\n",
              "218                      London  ...  http://www.flickr.com/photos/britishlibrary/ta...\n",
              "472                      London  ...  http://www.flickr.com/photos/britishlibrary/ta...\n",
              "480                      London  ...  http://www.flickr.com/photos/britishlibrary/ta...\n",
              "...                         ...  ...                                                ...\n",
              "4158088                  London  ...  http://www.flickr.com/photos/britishlibrary/ta...\n",
              "4158128                   Derby  ...  http://www.flickr.com/photos/britishlibrary/ta...\n",
              "4159563                  London  ...  http://www.flickr.com/photos/britishlibrary/ta...\n",
              "4159587     Newcastle-upon-Tyne  ...  http://www.flickr.com/photos/britishlibrary/ta...\n",
              "4160339                  London  ...  http://www.flickr.com/photos/britishlibrary/ta...\n",
              "\n",
              "[8287 rows x 6 columns]"
            ]
          },
          "metadata": {},
          "execution_count": 22
        }
      ]
    }
  ]
}