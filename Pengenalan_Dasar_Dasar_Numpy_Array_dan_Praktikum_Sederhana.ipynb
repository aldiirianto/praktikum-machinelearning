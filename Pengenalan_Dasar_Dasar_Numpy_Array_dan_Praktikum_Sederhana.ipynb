{
  "nbformat": 4,
  "nbformat_minor": 0,
  "metadata": {
    "colab": {
      "name": "Pengenalan Dasar Dasar Numpy Array dan Praktikum Sederhana.ipynb",
      "provenance": [],
      "collapsed_sections": [],
      "authorship_tag": "ABX9TyOpzL9OqvNISD8PgrBIx+RA",
      "include_colab_link": true
    },
    "kernelspec": {
      "name": "python3",
      "display_name": "Python 3"
    },
    "language_info": {
      "name": "python"
    }
  },
  "cells": [
    {
      "cell_type": "markdown",
      "metadata": {
        "id": "view-in-github",
        "colab_type": "text"
      },
      "source": [
        "<a href=\"https://colab.research.google.com/github/aldiirianto/praktikum-machinelearning/blob/main/Pengenalan_Dasar_Dasar_Numpy_Array_dan_Praktikum_Sederhana.ipynb\" target=\"_parent\"><img src=\"https://colab.research.google.com/assets/colab-badge.svg\" alt=\"Open In Colab\"/></a>"
      ]
    },
    {
      "cell_type": "markdown",
      "metadata": {
        "id": "y6fnSlsqFYrK"
      },
      "source": [
        "#**Pengenalan Dasar - Dasar Numpy Array Pada Python**"
      ]
    },
    {
      "cell_type": "markdown",
      "metadata": {
        "id": "HDW9q1tLFn_N"
      },
      "source": [
        "Numpy merupakan packages/library yang terdapat dalam bahasa pemrograman Python. Library Numpy dapat digunakan untuk melakukan pengelolaan data himpunan dan matriks multidimensi yang besar.\n",
        "\n",
        "Numpy Array merupakan struktur data yang umum digunakan dalam Python untuk menyimpan data sebagai grid atau matriks. \n",
        "\n",
        "- Ciri - ciri utama Numpy Array :\n",
        "  - Semua elemen dalam array harus memiliki tipe data yang sama. Misalnya semua bilangan bulat, string, dan lain sebagainya. \n",
        "\n",
        "- Numpy Array didefinisikan menggunakan fungsi **array()** pada Numpy Packages. \n",
        "\n",
        "- Contoh penulisannya sebagai berikut :\n",
        "  **-array=numpy.array([1, 2, 3, 4, 5])**"
      ]
    },
    {
      "cell_type": "markdown",
      "metadata": {
        "id": "esCRAX-OHiO4"
      },
      "source": [
        "##**1. Import Packages, Array Satu Dimensi, dan Mengidentifikasi Panjang Array**"
      ]
    },
    {
      "cell_type": "code",
      "metadata": {
        "id": "LL4P5Jj2Hw_x"
      },
      "source": [
        "#import packages\n",
        "import numpy as np"
      ],
      "execution_count": 1,
      "outputs": []
    },
    {
      "cell_type": "code",
      "metadata": {
        "colab": {
          "base_uri": "https://localhost:8080/"
        },
        "id": "aoMCYPGpH2_0",
        "outputId": "2db9d651-af20-4ac8-9a5d-eb0baac7a9b5"
      },
      "source": [
        "#create a numpy array one dimension\n",
        "my_first_array = np.array([1,2,3,4,5])\n",
        "my_first_array"
      ],
      "execution_count": 2,
      "outputs": [
        {
          "output_type": "execute_result",
          "data": {
            "text/plain": [
              "array([1, 2, 3, 4, 5])"
            ]
          },
          "metadata": {},
          "execution_count": 2
        }
      ]
    },
    {
      "cell_type": "code",
      "metadata": {
        "colab": {
          "base_uri": "https://localhost:8080/"
        },
        "id": "41LmcjC1ICNW",
        "outputId": "b8ef76bd-202e-4668-d215-769f28701b08"
      },
      "source": [
        "#check data types\n",
        "my_first_array.dtype"
      ],
      "execution_count": 3,
      "outputs": [
        {
          "output_type": "execute_result",
          "data": {
            "text/plain": [
              "dtype('int64')"
            ]
          },
          "metadata": {},
          "execution_count": 3
        }
      ]
    },
    {
      "cell_type": "code",
      "metadata": {
        "colab": {
          "base_uri": "https://localhost:8080/"
        },
        "id": "IWT8s_LwJR4F",
        "outputId": "97c970f1-2598-4cc2-f699-860bd9caf032"
      },
      "source": [
        "#check len of an array\n",
        "len(my_first_array)"
      ],
      "execution_count": 6,
      "outputs": [
        {
          "output_type": "execute_result",
          "data": {
            "text/plain": [
              "5"
            ]
          },
          "metadata": {},
          "execution_count": 6
        }
      ]
    },
    {
      "cell_type": "markdown",
      "metadata": {
        "id": "gpohXa8YJxN2"
      },
      "source": [
        "##**2. Menjumlahkan Semua Elemen, Menemukan Maksimum dan Minimum Value dari Array**"
      ]
    },
    {
      "cell_type": "code",
      "metadata": {
        "colab": {
          "base_uri": "https://localhost:8080/"
        },
        "id": "TGrTkb4EK3FI",
        "outputId": "79c98569-d1c1-462c-adbb-13701b9f58c4"
      },
      "source": [
        "my_first_array"
      ],
      "execution_count": 14,
      "outputs": [
        {
          "output_type": "execute_result",
          "data": {
            "text/plain": [
              "array([1, 2, 3, 4, 5])"
            ]
          },
          "metadata": {},
          "execution_count": 14
        }
      ]
    },
    {
      "cell_type": "code",
      "metadata": {
        "colab": {
          "base_uri": "https://localhost:8080/"
        },
        "id": "7JJiq1lYJ4Vr",
        "outputId": "0e34aa4d-db7d-4c2c-d1bc-eda3743a7249"
      },
      "source": [
        "#sum of all elements in the array \n",
        "np.sum(my_first_array) "
      ],
      "execution_count": 7,
      "outputs": [
        {
          "output_type": "execute_result",
          "data": {
            "text/plain": [
              "15"
            ]
          },
          "metadata": {},
          "execution_count": 7
        }
      ]
    },
    {
      "cell_type": "code",
      "metadata": {
        "colab": {
          "base_uri": "https://localhost:8080/"
        },
        "id": "6YFBnC87KHjv",
        "outputId": "39154b4f-c17e-4662-8b09-e01e616cd18a"
      },
      "source": [
        "#maximum value the elements in the array\n",
        "np.max(my_first_array)"
      ],
      "execution_count": 8,
      "outputs": [
        {
          "output_type": "execute_result",
          "data": {
            "text/plain": [
              "5"
            ]
          },
          "metadata": {},
          "execution_count": 8
        }
      ]
    },
    {
      "cell_type": "code",
      "metadata": {
        "colab": {
          "base_uri": "https://localhost:8080/"
        },
        "id": "7J6XUcufKPqO",
        "outputId": "49717e3f-060b-4578-c918-d6aed6b16722"
      },
      "source": [
        "#minimum value the elements in the array\n",
        "np.min(my_first_array)"
      ],
      "execution_count": 9,
      "outputs": [
        {
          "output_type": "execute_result",
          "data": {
            "text/plain": [
              "1"
            ]
          },
          "metadata": {},
          "execution_count": 9
        }
      ]
    },
    {
      "cell_type": "markdown",
      "metadata": {
        "id": "0h9yU14HKU3Y"
      },
      "source": [
        "##**3. Membuat Array dengan Beberapa Cara**"
      ]
    },
    {
      "cell_type": "code",
      "metadata": {
        "colab": {
          "base_uri": "https://localhost:8080/"
        },
        "id": "iTPSrpkoKYaD",
        "outputId": "38e19f3f-3776-48b8-8c43-73d51ebda36d"
      },
      "source": [
        "#create an empty numpy array length of 5\n",
        "np.empty(5)"
      ],
      "execution_count": 10,
      "outputs": [
        {
          "output_type": "execute_result",
          "data": {
            "text/plain": [
              "array([4.65196729e-310, 0.00000000e+000, 0.00000000e+000, 0.00000000e+000,\n",
              "       0.00000000e+000])"
            ]
          },
          "metadata": {},
          "execution_count": 10
        }
      ]
    },
    {
      "cell_type": "code",
      "metadata": {
        "colab": {
          "base_uri": "https://localhost:8080/"
        },
        "id": "UfPUPCrzKgus",
        "outputId": "65899598-82b4-47ed-f67c-e595476d2a2b"
      },
      "source": [
        "#create a numpy array with a range of numbers 0 - 9\n",
        "np.arange(10)"
      ],
      "execution_count": 12,
      "outputs": [
        {
          "output_type": "execute_result",
          "data": {
            "text/plain": [
              "array([0, 1, 2, 3, 4, 5, 6, 7, 8, 9])"
            ]
          },
          "metadata": {},
          "execution_count": 12
        }
      ]
    },
    {
      "cell_type": "code",
      "metadata": {
        "colab": {
          "base_uri": "https://localhost:8080/"
        },
        "id": "3JoWRFspKuCp",
        "outputId": "c978c245-a33d-45f4-c805-8301ee3ae4be"
      },
      "source": [
        "#create an array with random numbers\n",
        "np.random.random(5)"
      ],
      "execution_count": 13,
      "outputs": [
        {
          "output_type": "execute_result",
          "data": {
            "text/plain": [
              "array([0.63638481, 0.20784697, 0.33699553, 0.95940347, 0.49663831])"
            ]
          },
          "metadata": {},
          "execution_count": 13
        }
      ]
    },
    {
      "cell_type": "markdown",
      "metadata": {
        "id": "uVExpvafL9Ra"
      },
      "source": [
        "##**4. Array Multidimensi**"
      ]
    },
    {
      "cell_type": "code",
      "metadata": {
        "colab": {
          "base_uri": "https://localhost:8080/"
        },
        "id": "hJuNw5-8MFuk",
        "outputId": "da91d36c-cf0a-45b9-a351-274f4fe1f56f"
      },
      "source": [
        "#create a numpy array with multidimensional\n",
        "a = np.array([[1,2,3],[4,5,6,]])\n",
        "print('Array : ','\\n',a)\n",
        "print('Dimensions : ','\\n',a.ndim)"
      ],
      "execution_count": 16,
      "outputs": [
        {
          "output_type": "stream",
          "name": "stdout",
          "text": [
            "Array :  \n",
            " [[1 2 3]\n",
            " [4 5 6]]\n",
            "Dimensions :  \n",
            " 2\n"
          ]
        }
      ]
    },
    {
      "cell_type": "markdown",
      "metadata": {
        "id": "vYjItAGWMtF4"
      },
      "source": [
        "### **Latihan Membuat Array Multidimensi**"
      ]
    },
    {
      "cell_type": "markdown",
      "metadata": {
        "id": "7SAo20teMyd3"
      },
      "source": [
        "![Numpy Array (f).png](data:image/png;base64,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)"
      ]
    },
    {
      "cell_type": "code",
      "metadata": {
        "colab": {
          "base_uri": "https://localhost:8080/"
        },
        "id": "dOWf5AiRNGWX",
        "outputId": "6330924d-4468-4780-fbdd-26cf9bfb4785"
      },
      "source": [
        "#answer\n",
        "a = np.array([[4,4,5],[7,6,4],[9,7,4],[6,3,7]])\n",
        "print('Array : ','\\n',a)\n",
        "print('Dimensions : ','\\n',a.ndim)"
      ],
      "execution_count": 22,
      "outputs": [
        {
          "output_type": "stream",
          "name": "stdout",
          "text": [
            "Array :  \n",
            " [[4 4 5]\n",
            " [7 6 4]\n",
            " [9 7 4]\n",
            " [6 3 7]]\n",
            "Dimensions :  \n",
            " 2\n"
          ]
        }
      ]
    },
    {
      "cell_type": "markdown",
      "metadata": {
        "id": "_Bz7B-lGONv4"
      },
      "source": [
        "![Numpy Array (g).png](data:image/png;base64,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)"
      ]
    },
    {
      "cell_type": "code",
      "metadata": {
        "colab": {
          "base_uri": "https://localhost:8080/"
        },
        "id": "goHhRGrPObIa",
        "outputId": "3ada6a11-5f60-4e10-a219-48ef3de0f327"
      },
      "source": [
        "#answer\n",
        "a = np.array([[[7,8,5],[4,7,7],[7,1,9],[5,4,10]]])\n",
        "print('Array : ','\\n',a)\n",
        "print('Dimensions : ','\\n',a.ndim)"
      ],
      "execution_count": 18,
      "outputs": [
        {
          "output_type": "stream",
          "name": "stdout",
          "text": [
            "Array :  \n",
            " [[[ 7  8  5]\n",
            "  [ 4  7  7]\n",
            "  [ 7  1  9]\n",
            "  [ 5  4 10]]]\n",
            "Dimensions :  \n",
            " 3\n"
          ]
        }
      ]
    },
    {
      "cell_type": "code",
      "metadata": {
        "colab": {
          "base_uri": "https://localhost:8080/"
        },
        "id": "rkCYyuPlOqge",
        "outputId": "8fc31f23-d993-4786-b6fc-57f7b76a8da5"
      },
      "source": [
        "b = np.array([[[2,1,2],[9,8,5],[3,7,3],[4,9,9]]])\n",
        "print('Array : ','\\n',b)\n",
        "print('Dimensions : ','\\n',b.ndim)"
      ],
      "execution_count": 19,
      "outputs": [
        {
          "output_type": "stream",
          "name": "stdout",
          "text": [
            "Array :  \n",
            " [[[2 1 2]\n",
            "  [9 8 5]\n",
            "  [3 7 3]\n",
            "  [4 9 9]]]\n",
            "Dimensions :  \n",
            " 3\n"
          ]
        }
      ]
    },
    {
      "cell_type": "code",
      "metadata": {
        "colab": {
          "base_uri": "https://localhost:8080/"
        },
        "id": "ckVVvs0nO1Z1",
        "outputId": "9adf88d4-7f4d-46ef-8d83-6b36ee5a193a"
      },
      "source": [
        "c = np.array([[[2,9,3],[2,4,8],[1,6,6],[8,1,3]]])\n",
        "print('Array : ','\\n',c)\n",
        "print('Dimensions : ','\\n',c.ndim)"
      ],
      "execution_count": 20,
      "outputs": [
        {
          "output_type": "stream",
          "name": "stdout",
          "text": [
            "Array :  \n",
            " [[[2 9 3]\n",
            "  [2 4 8]\n",
            "  [1 6 6]\n",
            "  [8 1 3]]]\n",
            "Dimensions :  \n",
            " 3\n"
          ]
        }
      ]
    },
    {
      "cell_type": "markdown",
      "metadata": {
        "id": "aJGHn8BaPsLd"
      },
      "source": [
        "![Numpy Array (d).png](data:image/png;base64,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)"
      ]
    },
    {
      "cell_type": "code",
      "metadata": {
        "colab": {
          "base_uri": "https://localhost:8080/"
        },
        "id": "y_k9ZLYnPwkY",
        "outputId": "b1b87394-64fa-49e3-fb2a-70fdc3660e01"
      },
      "source": [
        "#answer\n",
        "a = np.array([[1,8,8,2],[8,2,1,2],[10,1,4,7],[1,4,7,8],[8,2,3,4]])\n",
        "b = np.array([[1,1,1,1],[0,0,0,0],[1,1,1,1],[0,0,0,0],[1,1,1,1]])\n",
        "c = np.array([[0,2,0,2],[0,2,0,2],[0,2,0,2],[0,2,0,2],[0,2,0,2]])\n",
        "print('Array A: ','\\n',a)\n",
        "print('Dimensions A : ','\\n',a.ndim)\n",
        "print('Array B : ','\\n',b)\n",
        "print('Dimensions B : ','\\n',b.ndim)\n",
        "print('Array C : ','\\n',c)\n",
        "print('Dimensions C : ','\\n',c.ndim)"
      ],
      "execution_count": 24,
      "outputs": [
        {
          "output_type": "stream",
          "name": "stdout",
          "text": [
            "Array A:  \n",
            " [[ 1  8  8  2]\n",
            " [ 8  2  1  2]\n",
            " [10  1  4  7]\n",
            " [ 1  4  7  8]\n",
            " [ 8  2  3  4]]\n",
            "Dimensions A :  \n",
            " 2\n",
            "Array B :  \n",
            " [[1 1 1 1]\n",
            " [0 0 0 0]\n",
            " [1 1 1 1]\n",
            " [0 0 0 0]\n",
            " [1 1 1 1]]\n",
            "Dimensions B :  \n",
            " 2\n",
            "Array C :  \n",
            " [[0 2 0 2]\n",
            " [0 2 0 2]\n",
            " [0 2 0 2]\n",
            " [0 2 0 2]\n",
            " [0 2 0 2]]\n",
            "Dimensions C :  \n",
            " 2\n"
          ]
        }
      ]
    },
    {
      "cell_type": "code",
      "metadata": {
        "colab": {
          "base_uri": "https://localhost:8080/"
        },
        "id": "igP_o9ocRDPD",
        "outputId": "995d24ee-3067-4acb-d99b-718621229f11"
      },
      "source": [
        "result = a + b + c\n",
        "print(\"Hasil:  \",'\\n', result)\n",
        "print(\"Dimensions: \",'\\n', result.ndim)"
      ],
      "execution_count": 26,
      "outputs": [
        {
          "output_type": "stream",
          "name": "stdout",
          "text": [
            "Hasil:   \n",
            " [[ 2 11  9  5]\n",
            " [ 8  4  1  4]\n",
            " [11  4  5 10]\n",
            " [ 1  6  7 10]\n",
            " [ 9  5  4  7]]\n",
            "Dimensions:  \n",
            " 2\n"
          ]
        }
      ]
    }
  ]
}