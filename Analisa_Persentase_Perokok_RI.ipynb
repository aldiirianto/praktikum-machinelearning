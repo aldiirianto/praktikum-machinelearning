{
  "nbformat": 4,
  "nbformat_minor": 0,
  "metadata": {
    "colab": {
      "name": "Analisa Persentase Perokok RI.ipynb",
      "provenance": [],
      "collapsed_sections": [],
      "authorship_tag": "ABX9TyO9w8n4w6kzfdoHkkQiCPfJ",
      "include_colab_link": true
    },
    "kernelspec": {
      "name": "python3",
      "display_name": "Python 3"
    },
    "language_info": {
      "name": "python"
    }
  },
  "cells": [
    {
      "cell_type": "markdown",
      "metadata": {
        "id": "view-in-github",
        "colab_type": "text"
      },
      "source": [
        "<a href=\"https://colab.research.google.com/github/aldiirianto/praktikum-machinelearning/blob/main/Analisa_Persentase_Perokok_RI.ipynb\" target=\"_parent\"><img src=\"https://colab.research.google.com/assets/colab-badge.svg\" alt=\"Open In Colab\"/></a>"
      ]
    },
    {
      "cell_type": "markdown",
      "metadata": {
        "id": "-G6TBY-ADcpT"
      },
      "source": [
        "#**Guidance Menganalisa Jumlah Persentase Perokok RI Tahun 2015 - 2016**\n",
        "###Tujuan panduan ini adalah untuk mengeksplor dataset Persentase Perokok RI yang diperoleh dari situs [kaggle.com](https://www.kaggle.com/lintangwisesa/persentase-perokok-di-indonesia-bps-20152016) ."
      ]
    },
    {
      "cell_type": "markdown",
      "metadata": {
        "id": "qk9CFdTDEc9M"
      },
      "source": [
        "##**1. Data Exploration**\n",
        "\n",
        "Tahapan pertama yang perlu dilakukan adalah mengeksplor dataset dari file Persentase Perokok RI serta memperhatikan label - label penting yang terdapat dalam data tersebut."
      ]
    },
    {
      "cell_type": "code",
      "metadata": {
        "colab": {
          "base_uri": "https://localhost:8080/"
        },
        "id": "1V1-00alFE6o",
        "outputId": "26088546-4fb1-4276-a4f8-1127030d643c"
      },
      "source": [
        "import pandas as pd\n",
        "import numpy as np\n",
        "import matplotlib.pyplot as plt\n",
        "import seaborn as sns\n",
        "\n",
        "#panggil dataset yang telah disimpan di Google Drive pribadi\n",
        "from google.colab import drive\n",
        "drive.mount('/content/drive')\n"
      ],
      "execution_count": 1,
      "outputs": [
        {
          "output_type": "stream",
          "name": "stdout",
          "text": [
            "Mounted at /content/drive\n"
          ]
        }
      ]
    },
    {
      "cell_type": "code",
      "metadata": {
        "colab": {
          "base_uri": "https://localhost:8080/",
          "height": 1000
        },
        "id": "U18xOHIyF45w",
        "outputId": "c82e0519-bd3f-49b5-f0cf-69140cdd813c"
      },
      "source": [
        "#explore the dataset\n",
        "dataset = pd.read_csv('/content/drive/My Drive/Machine Learning/dataset/Persentase Perokok RI.csv')\n",
        "dataset"
      ],
      "execution_count": 2,
      "outputs": [
        {
          "output_type": "execute_result",
          "data": {
            "text/html": [
              "<div>\n",
              "<style scoped>\n",
              "    .dataframe tbody tr th:only-of-type {\n",
              "        vertical-align: middle;\n",
              "    }\n",
              "\n",
              "    .dataframe tbody tr th {\n",
              "        vertical-align: top;\n",
              "    }\n",
              "\n",
              "    .dataframe thead th {\n",
              "        text-align: right;\n",
              "    }\n",
              "</style>\n",
              "<table border=\"1\" class=\"dataframe\">\n",
              "  <thead>\n",
              "    <tr style=\"text-align: right;\">\n",
              "      <th></th>\n",
              "      <th>Provinsi</th>\n",
              "      <th>2015</th>\n",
              "      <th>2016</th>\n",
              "    </tr>\n",
              "  </thead>\n",
              "  <tbody>\n",
              "    <tr>\n",
              "      <th>0</th>\n",
              "      <td>ACEH</td>\n",
              "      <td>29.82</td>\n",
              "      <td>28.16</td>\n",
              "    </tr>\n",
              "    <tr>\n",
              "      <th>1</th>\n",
              "      <td>SUMATERA UTARA</td>\n",
              "      <td>29.15</td>\n",
              "      <td>27.88</td>\n",
              "    </tr>\n",
              "    <tr>\n",
              "      <th>2</th>\n",
              "      <td>SUMATERA BARAT</td>\n",
              "      <td>32.41</td>\n",
              "      <td>30.59</td>\n",
              "    </tr>\n",
              "    <tr>\n",
              "      <th>3</th>\n",
              "      <td>RIAU</td>\n",
              "      <td>31.21</td>\n",
              "      <td>29.61</td>\n",
              "    </tr>\n",
              "    <tr>\n",
              "      <th>4</th>\n",
              "      <td>JAMBI</td>\n",
              "      <td>30.82</td>\n",
              "      <td>29.18</td>\n",
              "    </tr>\n",
              "    <tr>\n",
              "      <th>5</th>\n",
              "      <td>SUMATERA SELATAN</td>\n",
              "      <td>33.13</td>\n",
              "      <td>31.57</td>\n",
              "    </tr>\n",
              "    <tr>\n",
              "      <th>6</th>\n",
              "      <td>BENGKULU</td>\n",
              "      <td>33.68</td>\n",
              "      <td>33.15</td>\n",
              "    </tr>\n",
              "    <tr>\n",
              "      <th>7</th>\n",
              "      <td>LAMPUNG</td>\n",
              "      <td>34.12</td>\n",
              "      <td>33.39</td>\n",
              "    </tr>\n",
              "    <tr>\n",
              "      <th>8</th>\n",
              "      <td>KEP. BANGKA BELITUNG</td>\n",
              "      <td>30.70</td>\n",
              "      <td>29.32</td>\n",
              "    </tr>\n",
              "    <tr>\n",
              "      <th>9</th>\n",
              "      <td>KEP. RIAU</td>\n",
              "      <td>29.18</td>\n",
              "      <td>29.25</td>\n",
              "    </tr>\n",
              "    <tr>\n",
              "      <th>10</th>\n",
              "      <td>DKI JAKARTA</td>\n",
              "      <td>27.31</td>\n",
              "      <td>26.42</td>\n",
              "    </tr>\n",
              "    <tr>\n",
              "      <th>11</th>\n",
              "      <td>JAWA BARAT</td>\n",
              "      <td>33.82</td>\n",
              "      <td>32.67</td>\n",
              "    </tr>\n",
              "    <tr>\n",
              "      <th>12</th>\n",
              "      <td>JAWA TENGAH</td>\n",
              "      <td>28.57</td>\n",
              "      <td>27.19</td>\n",
              "    </tr>\n",
              "    <tr>\n",
              "      <th>13</th>\n",
              "      <td>DI YOGYAKARTA</td>\n",
              "      <td>24.12</td>\n",
              "      <td>23.11</td>\n",
              "    </tr>\n",
              "    <tr>\n",
              "      <th>14</th>\n",
              "      <td>JAWA TIMUR</td>\n",
              "      <td>29.03</td>\n",
              "      <td>28.16</td>\n",
              "    </tr>\n",
              "    <tr>\n",
              "      <th>15</th>\n",
              "      <td>BANTEN</td>\n",
              "      <td>32.95</td>\n",
              "      <td>31.64</td>\n",
              "    </tr>\n",
              "    <tr>\n",
              "      <th>16</th>\n",
              "      <td>BALI</td>\n",
              "      <td>22.96</td>\n",
              "      <td>21.62</td>\n",
              "    </tr>\n",
              "    <tr>\n",
              "      <th>17</th>\n",
              "      <td>NUSA TENGGARA BARAT</td>\n",
              "      <td>31.60</td>\n",
              "      <td>30.88</td>\n",
              "    </tr>\n",
              "    <tr>\n",
              "      <th>18</th>\n",
              "      <td>NUSA TENGGARA TIMUR</td>\n",
              "      <td>25.47</td>\n",
              "      <td>24.91</td>\n",
              "    </tr>\n",
              "    <tr>\n",
              "      <th>19</th>\n",
              "      <td>KALIMANTAN BARAT</td>\n",
              "      <td>29.35</td>\n",
              "      <td>28.09</td>\n",
              "    </tr>\n",
              "    <tr>\n",
              "      <th>20</th>\n",
              "      <td>KALIMANTAN TENGAH</td>\n",
              "      <td>30.53</td>\n",
              "      <td>29.21</td>\n",
              "    </tr>\n",
              "    <tr>\n",
              "      <th>21</th>\n",
              "      <td>KALIMANTAN SELATAN</td>\n",
              "      <td>25.76</td>\n",
              "      <td>25.34</td>\n",
              "    </tr>\n",
              "    <tr>\n",
              "      <th>22</th>\n",
              "      <td>KALIMANTAN TIMUR</td>\n",
              "      <td>25.59</td>\n",
              "      <td>25.23</td>\n",
              "    </tr>\n",
              "    <tr>\n",
              "      <th>23</th>\n",
              "      <td>KALIMANTAN UTARA</td>\n",
              "      <td>28.61</td>\n",
              "      <td>28.38</td>\n",
              "    </tr>\n",
              "    <tr>\n",
              "      <th>24</th>\n",
              "      <td>SULAWESI UTARA</td>\n",
              "      <td>29.31</td>\n",
              "      <td>29.23</td>\n",
              "    </tr>\n",
              "    <tr>\n",
              "      <th>25</th>\n",
              "      <td>SULAWESI TENGAH</td>\n",
              "      <td>32.56</td>\n",
              "      <td>31.88</td>\n",
              "    </tr>\n",
              "    <tr>\n",
              "      <th>26</th>\n",
              "      <td>SULAWESI SELATAN</td>\n",
              "      <td>25.49</td>\n",
              "      <td>25.13</td>\n",
              "    </tr>\n",
              "    <tr>\n",
              "      <th>27</th>\n",
              "      <td>SULAWESI TENGGARA</td>\n",
              "      <td>28.49</td>\n",
              "      <td>27.60</td>\n",
              "    </tr>\n",
              "    <tr>\n",
              "      <th>28</th>\n",
              "      <td>GORONTALO</td>\n",
              "      <td>33.93</td>\n",
              "      <td>31.71</td>\n",
              "    </tr>\n",
              "    <tr>\n",
              "      <th>29</th>\n",
              "      <td>SULAWESI BARAT</td>\n",
              "      <td>28.29</td>\n",
              "      <td>27.36</td>\n",
              "    </tr>\n",
              "    <tr>\n",
              "      <th>30</th>\n",
              "      <td>MALUKU</td>\n",
              "      <td>27.19</td>\n",
              "      <td>25.68</td>\n",
              "    </tr>\n",
              "    <tr>\n",
              "      <th>31</th>\n",
              "      <td>MALUKU UTARA</td>\n",
              "      <td>31.14</td>\n",
              "      <td>30.23</td>\n",
              "    </tr>\n",
              "    <tr>\n",
              "      <th>32</th>\n",
              "      <td>PAPUA BARAT</td>\n",
              "      <td>29.28</td>\n",
              "      <td>26.18</td>\n",
              "    </tr>\n",
              "    <tr>\n",
              "      <th>33</th>\n",
              "      <td>PAPUA</td>\n",
              "      <td>26.67</td>\n",
              "      <td>24.04</td>\n",
              "    </tr>\n",
              "  </tbody>\n",
              "</table>\n",
              "</div>"
            ],
            "text/plain": [
              "                Provinsi   2015   2016\n",
              "0                   ACEH  29.82  28.16\n",
              "1         SUMATERA UTARA  29.15  27.88\n",
              "2         SUMATERA BARAT  32.41  30.59\n",
              "3                   RIAU  31.21  29.61\n",
              "4                  JAMBI  30.82  29.18\n",
              "5       SUMATERA SELATAN  33.13  31.57\n",
              "6               BENGKULU  33.68  33.15\n",
              "7                LAMPUNG  34.12  33.39\n",
              "8   KEP. BANGKA BELITUNG  30.70  29.32\n",
              "9              KEP. RIAU  29.18  29.25\n",
              "10           DKI JAKARTA  27.31  26.42\n",
              "11            JAWA BARAT  33.82  32.67\n",
              "12           JAWA TENGAH  28.57  27.19\n",
              "13         DI YOGYAKARTA  24.12  23.11\n",
              "14            JAWA TIMUR  29.03  28.16\n",
              "15                BANTEN  32.95  31.64\n",
              "16                  BALI  22.96  21.62\n",
              "17   NUSA TENGGARA BARAT  31.60  30.88\n",
              "18   NUSA TENGGARA TIMUR  25.47  24.91\n",
              "19      KALIMANTAN BARAT  29.35  28.09\n",
              "20     KALIMANTAN TENGAH  30.53  29.21\n",
              "21    KALIMANTAN SELATAN  25.76  25.34\n",
              "22      KALIMANTAN TIMUR  25.59  25.23\n",
              "23      KALIMANTAN UTARA  28.61  28.38\n",
              "24        SULAWESI UTARA  29.31  29.23\n",
              "25       SULAWESI TENGAH  32.56  31.88\n",
              "26      SULAWESI SELATAN  25.49  25.13\n",
              "27     SULAWESI TENGGARA  28.49  27.60\n",
              "28             GORONTALO  33.93  31.71\n",
              "29        SULAWESI BARAT  28.29  27.36\n",
              "30                MALUKU  27.19  25.68\n",
              "31          MALUKU UTARA  31.14  30.23\n",
              "32           PAPUA BARAT  29.28  26.18\n",
              "33                 PAPUA  26.67  24.04"
            ]
          },
          "metadata": {},
          "execution_count": 2
        }
      ]
    },
    {
      "cell_type": "code",
      "metadata": {
        "colab": {
          "base_uri": "https://localhost:8080/"
        },
        "id": "05Si5G6NYZtC",
        "outputId": "5151413e-3114-49b4-a233-020a541f4661"
      },
      "source": [
        "dataset.shape"
      ],
      "execution_count": null,
      "outputs": [
        {
          "output_type": "execute_result",
          "data": {
            "text/plain": [
              "(34, 3)"
            ]
          },
          "metadata": {},
          "execution_count": 21
        }
      ]
    },
    {
      "cell_type": "code",
      "metadata": {
        "colab": {
          "base_uri": "https://localhost:8080/",
          "height": 204
        },
        "id": "Ia5pXWMGYT7X",
        "outputId": "991eeff7-a1ad-47d0-da36-7a6f7405a12a"
      },
      "source": [
        "dataset.head()"
      ],
      "execution_count": null,
      "outputs": [
        {
          "output_type": "execute_result",
          "data": {
            "text/html": [
              "<div>\n",
              "<style scoped>\n",
              "    .dataframe tbody tr th:only-of-type {\n",
              "        vertical-align: middle;\n",
              "    }\n",
              "\n",
              "    .dataframe tbody tr th {\n",
              "        vertical-align: top;\n",
              "    }\n",
              "\n",
              "    .dataframe thead th {\n",
              "        text-align: right;\n",
              "    }\n",
              "</style>\n",
              "<table border=\"1\" class=\"dataframe\">\n",
              "  <thead>\n",
              "    <tr style=\"text-align: right;\">\n",
              "      <th></th>\n",
              "      <th>Provinsi</th>\n",
              "      <th>2015</th>\n",
              "      <th>2016</th>\n",
              "    </tr>\n",
              "  </thead>\n",
              "  <tbody>\n",
              "    <tr>\n",
              "      <th>0</th>\n",
              "      <td>ACEH</td>\n",
              "      <td>29.82</td>\n",
              "      <td>28.16</td>\n",
              "    </tr>\n",
              "    <tr>\n",
              "      <th>1</th>\n",
              "      <td>SUMATERA UTARA</td>\n",
              "      <td>29.15</td>\n",
              "      <td>27.88</td>\n",
              "    </tr>\n",
              "    <tr>\n",
              "      <th>2</th>\n",
              "      <td>SUMATERA BARAT</td>\n",
              "      <td>32.41</td>\n",
              "      <td>30.59</td>\n",
              "    </tr>\n",
              "    <tr>\n",
              "      <th>3</th>\n",
              "      <td>RIAU</td>\n",
              "      <td>31.21</td>\n",
              "      <td>29.61</td>\n",
              "    </tr>\n",
              "    <tr>\n",
              "      <th>4</th>\n",
              "      <td>JAMBI</td>\n",
              "      <td>30.82</td>\n",
              "      <td>29.18</td>\n",
              "    </tr>\n",
              "  </tbody>\n",
              "</table>\n",
              "</div>"
            ],
            "text/plain": [
              "         Provinsi   2015   2016\n",
              "0            ACEH  29.82  28.16\n",
              "1  SUMATERA UTARA  29.15  27.88\n",
              "2  SUMATERA BARAT  32.41  30.59\n",
              "3            RIAU  31.21  29.61\n",
              "4           JAMBI  30.82  29.18"
            ]
          },
          "metadata": {},
          "execution_count": 19
        }
      ]
    },
    {
      "cell_type": "markdown",
      "metadata": {
        "id": "2pQ2_l8rGcvs"
      },
      "source": [
        "Disini, kita mempunyai dataset jumlah persentasi perokok dari 34 provinsi di Indonesia dalam periode waktu tahun 2015 - 2016. Kami akan menampilkan bagaimana perbandingan jumlah persentase perokok RI pada kurun waktu tersebut."
      ]
    },
    {
      "cell_type": "markdown",
      "metadata": {
        "id": "NUSXT3agHc0G"
      },
      "source": [
        "##**2. Data Cleaning**\n",
        "\n",
        "Tahapan kedua adalah data cleaning yang bertujuan untuk membersihkan data  - data yang tidak dibutuhkan dalam kegiatan menganalisa kali ini."
      ]
    },
    {
      "cell_type": "markdown",
      "metadata": {
        "id": "KsnLq1Qxe6ll"
      },
      "source": [
        "**- Removing Unwanted Columns**"
      ]
    },
    {
      "cell_type": "code",
      "metadata": {
        "colab": {
          "base_uri": "https://localhost:8080/"
        },
        "id": "G2mUyIXsHtFs",
        "outputId": "cfd95d82-0e51-4403-c916-f7f1d43e454a"
      },
      "source": [
        "dataset.columns"
      ],
      "execution_count": 94,
      "outputs": [
        {
          "output_type": "execute_result",
          "data": {
            "text/plain": [
              "Index(['Provinsi', '2015', '2016'], dtype='object')"
            ]
          },
          "metadata": {},
          "execution_count": 94
        }
      ]
    },
    {
      "cell_type": "markdown",
      "metadata": {
        "id": "ZMBsakszH7SK"
      },
      "source": [
        "Dapat dilihat bahwa, ketiga kolom diatas merupakan kolom - kolom yang akan kita jadikan sampel untuk kegiatan menganalisa kali ini. Sehingga, tidak ada kolom yang tidak akan kami gunakan."
      ]
    },
    {
      "cell_type": "markdown",
      "metadata": {
        "id": "JtJ84zl7fBGY"
      },
      "source": [
        "**- Handling Duplicate Entries**"
      ]
    },
    {
      "cell_type": "markdown",
      "metadata": {
        "id": "D1dPOYfUIu6k"
      },
      "source": [
        "Terkadang, terdapat duplikasi data masukan yang tersedia di dataset. Sehingga, diperlukan tahapan pengecekan duplikasi data masukan agar menjadikan bahan yang kita gunakan lebih baik."
      ]
    },
    {
      "cell_type": "code",
      "metadata": {
        "colab": {
          "base_uri": "https://localhost:8080/"
        },
        "id": "is0j7vIjI6xV",
        "outputId": "00d5699f-b60a-4deb-b17f-b1a41b09e7d6"
      },
      "source": [
        "dataset.duplicated().sum()"
      ],
      "execution_count": 6,
      "outputs": [
        {
          "output_type": "execute_result",
          "data": {
            "text/plain": [
              "0"
            ]
          },
          "metadata": {},
          "execution_count": 6
        }
      ]
    },
    {
      "cell_type": "markdown",
      "metadata": {
        "id": "2byBxxaVJNm-"
      },
      "source": [
        "Dapat kita lihat bahwa tidak terdapat duplikasi data masukkan di dalam dataset. Sehingga, kegiatan data cleaning dapat dilanjutkan."
      ]
    },
    {
      "cell_type": "markdown",
      "metadata": {
        "id": "ZvvXcRY8fIhe"
      },
      "source": [
        "**- Handling Missing Values**"
      ]
    },
    {
      "cell_type": "code",
      "metadata": {
        "colab": {
          "base_uri": "https://localhost:8080/"
        },
        "id": "S3GT3aVeJVse",
        "outputId": "3368f9bb-7568-41ae-ece5-4ccca5653529"
      },
      "source": [
        "dataset.isnull().sum()"
      ],
      "execution_count": 9,
      "outputs": [
        {
          "output_type": "execute_result",
          "data": {
            "text/plain": [
              "Provinsi    0\n",
              "2015        0\n",
              "2016        0\n",
              "dtype: int64"
            ]
          },
          "metadata": {},
          "execution_count": 9
        }
      ]
    },
    {
      "cell_type": "code",
      "metadata": {
        "colab": {
          "base_uri": "https://localhost:8080/",
          "height": 1000
        },
        "id": "c2YQUToOJa7N",
        "outputId": "338e9fed-a3c0-425a-8501-6cb17d013c97"
      },
      "source": [
        "dataset"
      ],
      "execution_count": 11,
      "outputs": [
        {
          "output_type": "execute_result",
          "data": {
            "text/html": [
              "<div>\n",
              "<style scoped>\n",
              "    .dataframe tbody tr th:only-of-type {\n",
              "        vertical-align: middle;\n",
              "    }\n",
              "\n",
              "    .dataframe tbody tr th {\n",
              "        vertical-align: top;\n",
              "    }\n",
              "\n",
              "    .dataframe thead th {\n",
              "        text-align: right;\n",
              "    }\n",
              "</style>\n",
              "<table border=\"1\" class=\"dataframe\">\n",
              "  <thead>\n",
              "    <tr style=\"text-align: right;\">\n",
              "      <th></th>\n",
              "      <th>Provinsi</th>\n",
              "      <th>2015</th>\n",
              "      <th>2016</th>\n",
              "    </tr>\n",
              "  </thead>\n",
              "  <tbody>\n",
              "    <tr>\n",
              "      <th>0</th>\n",
              "      <td>ACEH</td>\n",
              "      <td>29.82</td>\n",
              "      <td>28.16</td>\n",
              "    </tr>\n",
              "    <tr>\n",
              "      <th>1</th>\n",
              "      <td>SUMATERA UTARA</td>\n",
              "      <td>29.15</td>\n",
              "      <td>27.88</td>\n",
              "    </tr>\n",
              "    <tr>\n",
              "      <th>2</th>\n",
              "      <td>SUMATERA BARAT</td>\n",
              "      <td>32.41</td>\n",
              "      <td>30.59</td>\n",
              "    </tr>\n",
              "    <tr>\n",
              "      <th>3</th>\n",
              "      <td>RIAU</td>\n",
              "      <td>31.21</td>\n",
              "      <td>29.61</td>\n",
              "    </tr>\n",
              "    <tr>\n",
              "      <th>4</th>\n",
              "      <td>JAMBI</td>\n",
              "      <td>30.82</td>\n",
              "      <td>29.18</td>\n",
              "    </tr>\n",
              "    <tr>\n",
              "      <th>5</th>\n",
              "      <td>SUMATERA SELATAN</td>\n",
              "      <td>33.13</td>\n",
              "      <td>31.57</td>\n",
              "    </tr>\n",
              "    <tr>\n",
              "      <th>6</th>\n",
              "      <td>BENGKULU</td>\n",
              "      <td>33.68</td>\n",
              "      <td>33.15</td>\n",
              "    </tr>\n",
              "    <tr>\n",
              "      <th>7</th>\n",
              "      <td>LAMPUNG</td>\n",
              "      <td>34.12</td>\n",
              "      <td>33.39</td>\n",
              "    </tr>\n",
              "    <tr>\n",
              "      <th>8</th>\n",
              "      <td>KEP. BANGKA BELITUNG</td>\n",
              "      <td>30.70</td>\n",
              "      <td>29.32</td>\n",
              "    </tr>\n",
              "    <tr>\n",
              "      <th>9</th>\n",
              "      <td>KEP. RIAU</td>\n",
              "      <td>29.18</td>\n",
              "      <td>29.25</td>\n",
              "    </tr>\n",
              "    <tr>\n",
              "      <th>10</th>\n",
              "      <td>DKI JAKARTA</td>\n",
              "      <td>27.31</td>\n",
              "      <td>26.42</td>\n",
              "    </tr>\n",
              "    <tr>\n",
              "      <th>11</th>\n",
              "      <td>JAWA BARAT</td>\n",
              "      <td>33.82</td>\n",
              "      <td>32.67</td>\n",
              "    </tr>\n",
              "    <tr>\n",
              "      <th>12</th>\n",
              "      <td>JAWA TENGAH</td>\n",
              "      <td>28.57</td>\n",
              "      <td>27.19</td>\n",
              "    </tr>\n",
              "    <tr>\n",
              "      <th>13</th>\n",
              "      <td>DI YOGYAKARTA</td>\n",
              "      <td>24.12</td>\n",
              "      <td>23.11</td>\n",
              "    </tr>\n",
              "    <tr>\n",
              "      <th>14</th>\n",
              "      <td>JAWA TIMUR</td>\n",
              "      <td>29.03</td>\n",
              "      <td>28.16</td>\n",
              "    </tr>\n",
              "    <tr>\n",
              "      <th>15</th>\n",
              "      <td>BANTEN</td>\n",
              "      <td>32.95</td>\n",
              "      <td>31.64</td>\n",
              "    </tr>\n",
              "    <tr>\n",
              "      <th>16</th>\n",
              "      <td>BALI</td>\n",
              "      <td>22.96</td>\n",
              "      <td>21.62</td>\n",
              "    </tr>\n",
              "    <tr>\n",
              "      <th>17</th>\n",
              "      <td>NUSA TENGGARA BARAT</td>\n",
              "      <td>31.60</td>\n",
              "      <td>30.88</td>\n",
              "    </tr>\n",
              "    <tr>\n",
              "      <th>18</th>\n",
              "      <td>NUSA TENGGARA TIMUR</td>\n",
              "      <td>25.47</td>\n",
              "      <td>24.91</td>\n",
              "    </tr>\n",
              "    <tr>\n",
              "      <th>19</th>\n",
              "      <td>KALIMANTAN BARAT</td>\n",
              "      <td>29.35</td>\n",
              "      <td>28.09</td>\n",
              "    </tr>\n",
              "    <tr>\n",
              "      <th>20</th>\n",
              "      <td>KALIMANTAN TENGAH</td>\n",
              "      <td>30.53</td>\n",
              "      <td>29.21</td>\n",
              "    </tr>\n",
              "    <tr>\n",
              "      <th>21</th>\n",
              "      <td>KALIMANTAN SELATAN</td>\n",
              "      <td>25.76</td>\n",
              "      <td>25.34</td>\n",
              "    </tr>\n",
              "    <tr>\n",
              "      <th>22</th>\n",
              "      <td>KALIMANTAN TIMUR</td>\n",
              "      <td>25.59</td>\n",
              "      <td>25.23</td>\n",
              "    </tr>\n",
              "    <tr>\n",
              "      <th>23</th>\n",
              "      <td>KALIMANTAN UTARA</td>\n",
              "      <td>28.61</td>\n",
              "      <td>28.38</td>\n",
              "    </tr>\n",
              "    <tr>\n",
              "      <th>24</th>\n",
              "      <td>SULAWESI UTARA</td>\n",
              "      <td>29.31</td>\n",
              "      <td>29.23</td>\n",
              "    </tr>\n",
              "    <tr>\n",
              "      <th>25</th>\n",
              "      <td>SULAWESI TENGAH</td>\n",
              "      <td>32.56</td>\n",
              "      <td>31.88</td>\n",
              "    </tr>\n",
              "    <tr>\n",
              "      <th>26</th>\n",
              "      <td>SULAWESI SELATAN</td>\n",
              "      <td>25.49</td>\n",
              "      <td>25.13</td>\n",
              "    </tr>\n",
              "    <tr>\n",
              "      <th>27</th>\n",
              "      <td>SULAWESI TENGGARA</td>\n",
              "      <td>28.49</td>\n",
              "      <td>27.60</td>\n",
              "    </tr>\n",
              "    <tr>\n",
              "      <th>28</th>\n",
              "      <td>GORONTALO</td>\n",
              "      <td>33.93</td>\n",
              "      <td>31.71</td>\n",
              "    </tr>\n",
              "    <tr>\n",
              "      <th>29</th>\n",
              "      <td>SULAWESI BARAT</td>\n",
              "      <td>28.29</td>\n",
              "      <td>27.36</td>\n",
              "    </tr>\n",
              "    <tr>\n",
              "      <th>30</th>\n",
              "      <td>MALUKU</td>\n",
              "      <td>27.19</td>\n",
              "      <td>25.68</td>\n",
              "    </tr>\n",
              "    <tr>\n",
              "      <th>31</th>\n",
              "      <td>MALUKU UTARA</td>\n",
              "      <td>31.14</td>\n",
              "      <td>30.23</td>\n",
              "    </tr>\n",
              "    <tr>\n",
              "      <th>32</th>\n",
              "      <td>PAPUA BARAT</td>\n",
              "      <td>29.28</td>\n",
              "      <td>26.18</td>\n",
              "    </tr>\n",
              "    <tr>\n",
              "      <th>33</th>\n",
              "      <td>PAPUA</td>\n",
              "      <td>26.67</td>\n",
              "      <td>24.04</td>\n",
              "    </tr>\n",
              "  </tbody>\n",
              "</table>\n",
              "</div>"
            ],
            "text/plain": [
              "                Provinsi   2015   2016\n",
              "0                   ACEH  29.82  28.16\n",
              "1         SUMATERA UTARA  29.15  27.88\n",
              "2         SUMATERA BARAT  32.41  30.59\n",
              "3                   RIAU  31.21  29.61\n",
              "4                  JAMBI  30.82  29.18\n",
              "5       SUMATERA SELATAN  33.13  31.57\n",
              "6               BENGKULU  33.68  33.15\n",
              "7                LAMPUNG  34.12  33.39\n",
              "8   KEP. BANGKA BELITUNG  30.70  29.32\n",
              "9              KEP. RIAU  29.18  29.25\n",
              "10           DKI JAKARTA  27.31  26.42\n",
              "11            JAWA BARAT  33.82  32.67\n",
              "12           JAWA TENGAH  28.57  27.19\n",
              "13         DI YOGYAKARTA  24.12  23.11\n",
              "14            JAWA TIMUR  29.03  28.16\n",
              "15                BANTEN  32.95  31.64\n",
              "16                  BALI  22.96  21.62\n",
              "17   NUSA TENGGARA BARAT  31.60  30.88\n",
              "18   NUSA TENGGARA TIMUR  25.47  24.91\n",
              "19      KALIMANTAN BARAT  29.35  28.09\n",
              "20     KALIMANTAN TENGAH  30.53  29.21\n",
              "21    KALIMANTAN SELATAN  25.76  25.34\n",
              "22      KALIMANTAN TIMUR  25.59  25.23\n",
              "23      KALIMANTAN UTARA  28.61  28.38\n",
              "24        SULAWESI UTARA  29.31  29.23\n",
              "25       SULAWESI TENGAH  32.56  31.88\n",
              "26      SULAWESI SELATAN  25.49  25.13\n",
              "27     SULAWESI TENGGARA  28.49  27.60\n",
              "28             GORONTALO  33.93  31.71\n",
              "29        SULAWESI BARAT  28.29  27.36\n",
              "30                MALUKU  27.19  25.68\n",
              "31          MALUKU UTARA  31.14  30.23\n",
              "32           PAPUA BARAT  29.28  26.18\n",
              "33                 PAPUA  26.67  24.04"
            ]
          },
          "metadata": {},
          "execution_count": 11
        }
      ]
    },
    {
      "cell_type": "markdown",
      "metadata": {
        "id": "9yLgm5mVJmAF"
      },
      "source": [
        "34 rows x 3 columns"
      ]
    },
    {
      "cell_type": "markdown",
      "metadata": {
        "id": "Ykw_pps6Jztc"
      },
      "source": [
        "Dapat kita bahwa, tidak terdapat data kosong di dataset. Sehingga, kegiatan data cleaning dapat dilanjutkan.\n"
      ]
    },
    {
      "cell_type": "code",
      "metadata": {
        "id": "bdG9oih4J154"
      },
      "source": [
        "#handling unnatural values"
      ],
      "execution_count": 13,
      "outputs": []
    },
    {
      "cell_type": "code",
      "metadata": {
        "colab": {
          "base_uri": "https://localhost:8080/"
        },
        "id": "aTmqcrL-J5yd",
        "outputId": "b37bb322-8566-4c10-9d6c-f1d35b637c91"
      },
      "source": [
        "#check minimum value\n",
        "dataset.min()"
      ],
      "execution_count": 14,
      "outputs": [
        {
          "output_type": "execute_result",
          "data": {
            "text/plain": [
              "Provinsi     ACEH\n",
              "2015        22.96\n",
              "2016        21.62\n",
              "dtype: object"
            ]
          },
          "metadata": {},
          "execution_count": 14
        }
      ]
    },
    {
      "cell_type": "code",
      "metadata": {
        "colab": {
          "base_uri": "https://localhost:8080/"
        },
        "id": "5trECw5tKAwx",
        "outputId": "e4599fff-81db-49cf-f279-cf257b1983b7"
      },
      "source": [
        "#check maximum value\n",
        "dataset.max()"
      ],
      "execution_count": 31,
      "outputs": [
        {
          "output_type": "execute_result",
          "data": {
            "text/plain": [
              "Provinsi    SUMATERA UTARA\n",
              "2015                 34.12\n",
              "2016                 33.39\n",
              "dtype: object"
            ]
          },
          "metadata": {},
          "execution_count": 31
        }
      ]
    },
    {
      "cell_type": "code",
      "metadata": {
        "colab": {
          "base_uri": "https://localhost:8080/",
          "height": 1000
        },
        "id": "4oDW4rWIKGOd",
        "outputId": "fcfed784-527f-4439-e82e-87a0ef46d6ea"
      },
      "source": [
        "#check the range possibilites values, and remove the unnatural values\n",
        "dataset = dataset[dataset['2015']<100]\n",
        "dataset"
      ],
      "execution_count": 18,
      "outputs": [
        {
          "output_type": "execute_result",
          "data": {
            "text/html": [
              "<div>\n",
              "<style scoped>\n",
              "    .dataframe tbody tr th:only-of-type {\n",
              "        vertical-align: middle;\n",
              "    }\n",
              "\n",
              "    .dataframe tbody tr th {\n",
              "        vertical-align: top;\n",
              "    }\n",
              "\n",
              "    .dataframe thead th {\n",
              "        text-align: right;\n",
              "    }\n",
              "</style>\n",
              "<table border=\"1\" class=\"dataframe\">\n",
              "  <thead>\n",
              "    <tr style=\"text-align: right;\">\n",
              "      <th></th>\n",
              "      <th>Provinsi</th>\n",
              "      <th>2015</th>\n",
              "      <th>2016</th>\n",
              "    </tr>\n",
              "  </thead>\n",
              "  <tbody>\n",
              "    <tr>\n",
              "      <th>0</th>\n",
              "      <td>ACEH</td>\n",
              "      <td>29.82</td>\n",
              "      <td>28.16</td>\n",
              "    </tr>\n",
              "    <tr>\n",
              "      <th>1</th>\n",
              "      <td>SUMATERA UTARA</td>\n",
              "      <td>29.15</td>\n",
              "      <td>27.88</td>\n",
              "    </tr>\n",
              "    <tr>\n",
              "      <th>2</th>\n",
              "      <td>SUMATERA BARAT</td>\n",
              "      <td>32.41</td>\n",
              "      <td>30.59</td>\n",
              "    </tr>\n",
              "    <tr>\n",
              "      <th>3</th>\n",
              "      <td>RIAU</td>\n",
              "      <td>31.21</td>\n",
              "      <td>29.61</td>\n",
              "    </tr>\n",
              "    <tr>\n",
              "      <th>4</th>\n",
              "      <td>JAMBI</td>\n",
              "      <td>30.82</td>\n",
              "      <td>29.18</td>\n",
              "    </tr>\n",
              "    <tr>\n",
              "      <th>5</th>\n",
              "      <td>SUMATERA SELATAN</td>\n",
              "      <td>33.13</td>\n",
              "      <td>31.57</td>\n",
              "    </tr>\n",
              "    <tr>\n",
              "      <th>6</th>\n",
              "      <td>BENGKULU</td>\n",
              "      <td>33.68</td>\n",
              "      <td>33.15</td>\n",
              "    </tr>\n",
              "    <tr>\n",
              "      <th>7</th>\n",
              "      <td>LAMPUNG</td>\n",
              "      <td>34.12</td>\n",
              "      <td>33.39</td>\n",
              "    </tr>\n",
              "    <tr>\n",
              "      <th>8</th>\n",
              "      <td>KEP. BANGKA BELITUNG</td>\n",
              "      <td>30.70</td>\n",
              "      <td>29.32</td>\n",
              "    </tr>\n",
              "    <tr>\n",
              "      <th>9</th>\n",
              "      <td>KEP. RIAU</td>\n",
              "      <td>29.18</td>\n",
              "      <td>29.25</td>\n",
              "    </tr>\n",
              "    <tr>\n",
              "      <th>10</th>\n",
              "      <td>DKI JAKARTA</td>\n",
              "      <td>27.31</td>\n",
              "      <td>26.42</td>\n",
              "    </tr>\n",
              "    <tr>\n",
              "      <th>11</th>\n",
              "      <td>JAWA BARAT</td>\n",
              "      <td>33.82</td>\n",
              "      <td>32.67</td>\n",
              "    </tr>\n",
              "    <tr>\n",
              "      <th>12</th>\n",
              "      <td>JAWA TENGAH</td>\n",
              "      <td>28.57</td>\n",
              "      <td>27.19</td>\n",
              "    </tr>\n",
              "    <tr>\n",
              "      <th>13</th>\n",
              "      <td>DI YOGYAKARTA</td>\n",
              "      <td>24.12</td>\n",
              "      <td>23.11</td>\n",
              "    </tr>\n",
              "    <tr>\n",
              "      <th>14</th>\n",
              "      <td>JAWA TIMUR</td>\n",
              "      <td>29.03</td>\n",
              "      <td>28.16</td>\n",
              "    </tr>\n",
              "    <tr>\n",
              "      <th>15</th>\n",
              "      <td>BANTEN</td>\n",
              "      <td>32.95</td>\n",
              "      <td>31.64</td>\n",
              "    </tr>\n",
              "    <tr>\n",
              "      <th>16</th>\n",
              "      <td>BALI</td>\n",
              "      <td>22.96</td>\n",
              "      <td>21.62</td>\n",
              "    </tr>\n",
              "    <tr>\n",
              "      <th>17</th>\n",
              "      <td>NUSA TENGGARA BARAT</td>\n",
              "      <td>31.60</td>\n",
              "      <td>30.88</td>\n",
              "    </tr>\n",
              "    <tr>\n",
              "      <th>18</th>\n",
              "      <td>NUSA TENGGARA TIMUR</td>\n",
              "      <td>25.47</td>\n",
              "      <td>24.91</td>\n",
              "    </tr>\n",
              "    <tr>\n",
              "      <th>19</th>\n",
              "      <td>KALIMANTAN BARAT</td>\n",
              "      <td>29.35</td>\n",
              "      <td>28.09</td>\n",
              "    </tr>\n",
              "    <tr>\n",
              "      <th>20</th>\n",
              "      <td>KALIMANTAN TENGAH</td>\n",
              "      <td>30.53</td>\n",
              "      <td>29.21</td>\n",
              "    </tr>\n",
              "    <tr>\n",
              "      <th>21</th>\n",
              "      <td>KALIMANTAN SELATAN</td>\n",
              "      <td>25.76</td>\n",
              "      <td>25.34</td>\n",
              "    </tr>\n",
              "    <tr>\n",
              "      <th>22</th>\n",
              "      <td>KALIMANTAN TIMUR</td>\n",
              "      <td>25.59</td>\n",
              "      <td>25.23</td>\n",
              "    </tr>\n",
              "    <tr>\n",
              "      <th>23</th>\n",
              "      <td>KALIMANTAN UTARA</td>\n",
              "      <td>28.61</td>\n",
              "      <td>28.38</td>\n",
              "    </tr>\n",
              "    <tr>\n",
              "      <th>24</th>\n",
              "      <td>SULAWESI UTARA</td>\n",
              "      <td>29.31</td>\n",
              "      <td>29.23</td>\n",
              "    </tr>\n",
              "    <tr>\n",
              "      <th>25</th>\n",
              "      <td>SULAWESI TENGAH</td>\n",
              "      <td>32.56</td>\n",
              "      <td>31.88</td>\n",
              "    </tr>\n",
              "    <tr>\n",
              "      <th>26</th>\n",
              "      <td>SULAWESI SELATAN</td>\n",
              "      <td>25.49</td>\n",
              "      <td>25.13</td>\n",
              "    </tr>\n",
              "    <tr>\n",
              "      <th>27</th>\n",
              "      <td>SULAWESI TENGGARA</td>\n",
              "      <td>28.49</td>\n",
              "      <td>27.60</td>\n",
              "    </tr>\n",
              "    <tr>\n",
              "      <th>28</th>\n",
              "      <td>GORONTALO</td>\n",
              "      <td>33.93</td>\n",
              "      <td>31.71</td>\n",
              "    </tr>\n",
              "    <tr>\n",
              "      <th>29</th>\n",
              "      <td>SULAWESI BARAT</td>\n",
              "      <td>28.29</td>\n",
              "      <td>27.36</td>\n",
              "    </tr>\n",
              "    <tr>\n",
              "      <th>30</th>\n",
              "      <td>MALUKU</td>\n",
              "      <td>27.19</td>\n",
              "      <td>25.68</td>\n",
              "    </tr>\n",
              "    <tr>\n",
              "      <th>31</th>\n",
              "      <td>MALUKU UTARA</td>\n",
              "      <td>31.14</td>\n",
              "      <td>30.23</td>\n",
              "    </tr>\n",
              "    <tr>\n",
              "      <th>32</th>\n",
              "      <td>PAPUA BARAT</td>\n",
              "      <td>29.28</td>\n",
              "      <td>26.18</td>\n",
              "    </tr>\n",
              "    <tr>\n",
              "      <th>33</th>\n",
              "      <td>PAPUA</td>\n",
              "      <td>26.67</td>\n",
              "      <td>24.04</td>\n",
              "    </tr>\n",
              "  </tbody>\n",
              "</table>\n",
              "</div>"
            ],
            "text/plain": [
              "                Provinsi   2015   2016\n",
              "0                   ACEH  29.82  28.16\n",
              "1         SUMATERA UTARA  29.15  27.88\n",
              "2         SUMATERA BARAT  32.41  30.59\n",
              "3                   RIAU  31.21  29.61\n",
              "4                  JAMBI  30.82  29.18\n",
              "5       SUMATERA SELATAN  33.13  31.57\n",
              "6               BENGKULU  33.68  33.15\n",
              "7                LAMPUNG  34.12  33.39\n",
              "8   KEP. BANGKA BELITUNG  30.70  29.32\n",
              "9              KEP. RIAU  29.18  29.25\n",
              "10           DKI JAKARTA  27.31  26.42\n",
              "11            JAWA BARAT  33.82  32.67\n",
              "12           JAWA TENGAH  28.57  27.19\n",
              "13         DI YOGYAKARTA  24.12  23.11\n",
              "14            JAWA TIMUR  29.03  28.16\n",
              "15                BANTEN  32.95  31.64\n",
              "16                  BALI  22.96  21.62\n",
              "17   NUSA TENGGARA BARAT  31.60  30.88\n",
              "18   NUSA TENGGARA TIMUR  25.47  24.91\n",
              "19      KALIMANTAN BARAT  29.35  28.09\n",
              "20     KALIMANTAN TENGAH  30.53  29.21\n",
              "21    KALIMANTAN SELATAN  25.76  25.34\n",
              "22      KALIMANTAN TIMUR  25.59  25.23\n",
              "23      KALIMANTAN UTARA  28.61  28.38\n",
              "24        SULAWESI UTARA  29.31  29.23\n",
              "25       SULAWESI TENGAH  32.56  31.88\n",
              "26      SULAWESI SELATAN  25.49  25.13\n",
              "27     SULAWESI TENGGARA  28.49  27.60\n",
              "28             GORONTALO  33.93  31.71\n",
              "29        SULAWESI BARAT  28.29  27.36\n",
              "30                MALUKU  27.19  25.68\n",
              "31          MALUKU UTARA  31.14  30.23\n",
              "32           PAPUA BARAT  29.28  26.18\n",
              "33                 PAPUA  26.67  24.04"
            ]
          },
          "metadata": {},
          "execution_count": 18
        }
      ]
    },
    {
      "cell_type": "code",
      "metadata": {
        "colab": {
          "base_uri": "https://localhost:8080/",
          "height": 1000
        },
        "id": "-55m2a2JKoeh",
        "outputId": "d60adfcb-853f-49f5-a29d-e3ec041d589d"
      },
      "source": [
        "dataset = dataset[dataset['2016']<100]\n",
        "dataset"
      ],
      "execution_count": 19,
      "outputs": [
        {
          "output_type": "execute_result",
          "data": {
            "text/html": [
              "<div>\n",
              "<style scoped>\n",
              "    .dataframe tbody tr th:only-of-type {\n",
              "        vertical-align: middle;\n",
              "    }\n",
              "\n",
              "    .dataframe tbody tr th {\n",
              "        vertical-align: top;\n",
              "    }\n",
              "\n",
              "    .dataframe thead th {\n",
              "        text-align: right;\n",
              "    }\n",
              "</style>\n",
              "<table border=\"1\" class=\"dataframe\">\n",
              "  <thead>\n",
              "    <tr style=\"text-align: right;\">\n",
              "      <th></th>\n",
              "      <th>Provinsi</th>\n",
              "      <th>2015</th>\n",
              "      <th>2016</th>\n",
              "    </tr>\n",
              "  </thead>\n",
              "  <tbody>\n",
              "    <tr>\n",
              "      <th>0</th>\n",
              "      <td>ACEH</td>\n",
              "      <td>29.82</td>\n",
              "      <td>28.16</td>\n",
              "    </tr>\n",
              "    <tr>\n",
              "      <th>1</th>\n",
              "      <td>SUMATERA UTARA</td>\n",
              "      <td>29.15</td>\n",
              "      <td>27.88</td>\n",
              "    </tr>\n",
              "    <tr>\n",
              "      <th>2</th>\n",
              "      <td>SUMATERA BARAT</td>\n",
              "      <td>32.41</td>\n",
              "      <td>30.59</td>\n",
              "    </tr>\n",
              "    <tr>\n",
              "      <th>3</th>\n",
              "      <td>RIAU</td>\n",
              "      <td>31.21</td>\n",
              "      <td>29.61</td>\n",
              "    </tr>\n",
              "    <tr>\n",
              "      <th>4</th>\n",
              "      <td>JAMBI</td>\n",
              "      <td>30.82</td>\n",
              "      <td>29.18</td>\n",
              "    </tr>\n",
              "    <tr>\n",
              "      <th>5</th>\n",
              "      <td>SUMATERA SELATAN</td>\n",
              "      <td>33.13</td>\n",
              "      <td>31.57</td>\n",
              "    </tr>\n",
              "    <tr>\n",
              "      <th>6</th>\n",
              "      <td>BENGKULU</td>\n",
              "      <td>33.68</td>\n",
              "      <td>33.15</td>\n",
              "    </tr>\n",
              "    <tr>\n",
              "      <th>7</th>\n",
              "      <td>LAMPUNG</td>\n",
              "      <td>34.12</td>\n",
              "      <td>33.39</td>\n",
              "    </tr>\n",
              "    <tr>\n",
              "      <th>8</th>\n",
              "      <td>KEP. BANGKA BELITUNG</td>\n",
              "      <td>30.70</td>\n",
              "      <td>29.32</td>\n",
              "    </tr>\n",
              "    <tr>\n",
              "      <th>9</th>\n",
              "      <td>KEP. RIAU</td>\n",
              "      <td>29.18</td>\n",
              "      <td>29.25</td>\n",
              "    </tr>\n",
              "    <tr>\n",
              "      <th>10</th>\n",
              "      <td>DKI JAKARTA</td>\n",
              "      <td>27.31</td>\n",
              "      <td>26.42</td>\n",
              "    </tr>\n",
              "    <tr>\n",
              "      <th>11</th>\n",
              "      <td>JAWA BARAT</td>\n",
              "      <td>33.82</td>\n",
              "      <td>32.67</td>\n",
              "    </tr>\n",
              "    <tr>\n",
              "      <th>12</th>\n",
              "      <td>JAWA TENGAH</td>\n",
              "      <td>28.57</td>\n",
              "      <td>27.19</td>\n",
              "    </tr>\n",
              "    <tr>\n",
              "      <th>13</th>\n",
              "      <td>DI YOGYAKARTA</td>\n",
              "      <td>24.12</td>\n",
              "      <td>23.11</td>\n",
              "    </tr>\n",
              "    <tr>\n",
              "      <th>14</th>\n",
              "      <td>JAWA TIMUR</td>\n",
              "      <td>29.03</td>\n",
              "      <td>28.16</td>\n",
              "    </tr>\n",
              "    <tr>\n",
              "      <th>15</th>\n",
              "      <td>BANTEN</td>\n",
              "      <td>32.95</td>\n",
              "      <td>31.64</td>\n",
              "    </tr>\n",
              "    <tr>\n",
              "      <th>16</th>\n",
              "      <td>BALI</td>\n",
              "      <td>22.96</td>\n",
              "      <td>21.62</td>\n",
              "    </tr>\n",
              "    <tr>\n",
              "      <th>17</th>\n",
              "      <td>NUSA TENGGARA BARAT</td>\n",
              "      <td>31.60</td>\n",
              "      <td>30.88</td>\n",
              "    </tr>\n",
              "    <tr>\n",
              "      <th>18</th>\n",
              "      <td>NUSA TENGGARA TIMUR</td>\n",
              "      <td>25.47</td>\n",
              "      <td>24.91</td>\n",
              "    </tr>\n",
              "    <tr>\n",
              "      <th>19</th>\n",
              "      <td>KALIMANTAN BARAT</td>\n",
              "      <td>29.35</td>\n",
              "      <td>28.09</td>\n",
              "    </tr>\n",
              "    <tr>\n",
              "      <th>20</th>\n",
              "      <td>KALIMANTAN TENGAH</td>\n",
              "      <td>30.53</td>\n",
              "      <td>29.21</td>\n",
              "    </tr>\n",
              "    <tr>\n",
              "      <th>21</th>\n",
              "      <td>KALIMANTAN SELATAN</td>\n",
              "      <td>25.76</td>\n",
              "      <td>25.34</td>\n",
              "    </tr>\n",
              "    <tr>\n",
              "      <th>22</th>\n",
              "      <td>KALIMANTAN TIMUR</td>\n",
              "      <td>25.59</td>\n",
              "      <td>25.23</td>\n",
              "    </tr>\n",
              "    <tr>\n",
              "      <th>23</th>\n",
              "      <td>KALIMANTAN UTARA</td>\n",
              "      <td>28.61</td>\n",
              "      <td>28.38</td>\n",
              "    </tr>\n",
              "    <tr>\n",
              "      <th>24</th>\n",
              "      <td>SULAWESI UTARA</td>\n",
              "      <td>29.31</td>\n",
              "      <td>29.23</td>\n",
              "    </tr>\n",
              "    <tr>\n",
              "      <th>25</th>\n",
              "      <td>SULAWESI TENGAH</td>\n",
              "      <td>32.56</td>\n",
              "      <td>31.88</td>\n",
              "    </tr>\n",
              "    <tr>\n",
              "      <th>26</th>\n",
              "      <td>SULAWESI SELATAN</td>\n",
              "      <td>25.49</td>\n",
              "      <td>25.13</td>\n",
              "    </tr>\n",
              "    <tr>\n",
              "      <th>27</th>\n",
              "      <td>SULAWESI TENGGARA</td>\n",
              "      <td>28.49</td>\n",
              "      <td>27.60</td>\n",
              "    </tr>\n",
              "    <tr>\n",
              "      <th>28</th>\n",
              "      <td>GORONTALO</td>\n",
              "      <td>33.93</td>\n",
              "      <td>31.71</td>\n",
              "    </tr>\n",
              "    <tr>\n",
              "      <th>29</th>\n",
              "      <td>SULAWESI BARAT</td>\n",
              "      <td>28.29</td>\n",
              "      <td>27.36</td>\n",
              "    </tr>\n",
              "    <tr>\n",
              "      <th>30</th>\n",
              "      <td>MALUKU</td>\n",
              "      <td>27.19</td>\n",
              "      <td>25.68</td>\n",
              "    </tr>\n",
              "    <tr>\n",
              "      <th>31</th>\n",
              "      <td>MALUKU UTARA</td>\n",
              "      <td>31.14</td>\n",
              "      <td>30.23</td>\n",
              "    </tr>\n",
              "    <tr>\n",
              "      <th>32</th>\n",
              "      <td>PAPUA BARAT</td>\n",
              "      <td>29.28</td>\n",
              "      <td>26.18</td>\n",
              "    </tr>\n",
              "    <tr>\n",
              "      <th>33</th>\n",
              "      <td>PAPUA</td>\n",
              "      <td>26.67</td>\n",
              "      <td>24.04</td>\n",
              "    </tr>\n",
              "  </tbody>\n",
              "</table>\n",
              "</div>"
            ],
            "text/plain": [
              "                Provinsi   2015   2016\n",
              "0                   ACEH  29.82  28.16\n",
              "1         SUMATERA UTARA  29.15  27.88\n",
              "2         SUMATERA BARAT  32.41  30.59\n",
              "3                   RIAU  31.21  29.61\n",
              "4                  JAMBI  30.82  29.18\n",
              "5       SUMATERA SELATAN  33.13  31.57\n",
              "6               BENGKULU  33.68  33.15\n",
              "7                LAMPUNG  34.12  33.39\n",
              "8   KEP. BANGKA BELITUNG  30.70  29.32\n",
              "9              KEP. RIAU  29.18  29.25\n",
              "10           DKI JAKARTA  27.31  26.42\n",
              "11            JAWA BARAT  33.82  32.67\n",
              "12           JAWA TENGAH  28.57  27.19\n",
              "13         DI YOGYAKARTA  24.12  23.11\n",
              "14            JAWA TIMUR  29.03  28.16\n",
              "15                BANTEN  32.95  31.64\n",
              "16                  BALI  22.96  21.62\n",
              "17   NUSA TENGGARA BARAT  31.60  30.88\n",
              "18   NUSA TENGGARA TIMUR  25.47  24.91\n",
              "19      KALIMANTAN BARAT  29.35  28.09\n",
              "20     KALIMANTAN TENGAH  30.53  29.21\n",
              "21    KALIMANTAN SELATAN  25.76  25.34\n",
              "22      KALIMANTAN TIMUR  25.59  25.23\n",
              "23      KALIMANTAN UTARA  28.61  28.38\n",
              "24        SULAWESI UTARA  29.31  29.23\n",
              "25       SULAWESI TENGAH  32.56  31.88\n",
              "26      SULAWESI SELATAN  25.49  25.13\n",
              "27     SULAWESI TENGGARA  28.49  27.60\n",
              "28             GORONTALO  33.93  31.71\n",
              "29        SULAWESI BARAT  28.29  27.36\n",
              "30                MALUKU  27.19  25.68\n",
              "31          MALUKU UTARA  31.14  30.23\n",
              "32           PAPUA BARAT  29.28  26.18\n",
              "33                 PAPUA  26.67  24.04"
            ]
          },
          "metadata": {},
          "execution_count": 19
        }
      ]
    },
    {
      "cell_type": "markdown",
      "metadata": {
        "id": "DHcmusWfKxWe"
      },
      "source": [
        "34 rows x 3 columns"
      ]
    },
    {
      "cell_type": "markdown",
      "metadata": {
        "id": "33nfypNQLAb4"
      },
      "source": [
        "Dapat kita lihat bahwa, kita masih mempunyai data persentase perokok tahun 2015 - 2016 di 34 provinsi yang valid untuk tetap dilanjutkan kegiatan menganalisis."
      ]
    },
    {
      "cell_type": "markdown",
      "metadata": {
        "id": "TIdZsZegfUSX"
      },
      "source": [
        "**- Handling Outliers**"
      ]
    },
    {
      "cell_type": "markdown",
      "metadata": {
        "id": "LK0b6xr4LN9Q"
      },
      "source": [
        "Aturan yang digunakan untuk mengecek apakah terdapat data pencilan dalam dataset yang akan kita analisa adalah sebagai berikut :\n",
        "\n",
        "     jika skew >+ 1 or <- 1 = terdapat data pencilan (outlier)"
      ]
    },
    {
      "cell_type": "code",
      "metadata": {
        "colab": {
          "base_uri": "https://localhost:8080/"
        },
        "id": "pNwdzy10LpeB",
        "outputId": "ef4dd637-952e-4cf9-b96c-25304a76d475"
      },
      "source": [
        "#check the result if there are outliers present\n",
        "dataset.skew()"
      ],
      "execution_count": 21,
      "outputs": [
        {
          "output_type": "execute_result",
          "data": {
            "text/plain": [
              "2015   -0.249943\n",
              "2016   -0.245933\n",
              "dtype: float64"
            ]
          },
          "metadata": {},
          "execution_count": 21
        }
      ]
    },
    {
      "cell_type": "markdown",
      "metadata": {
        "id": "YuyBqU18L4sE"
      },
      "source": [
        "Dapat kita lihat bahwa, pada setiap kolom tersebut tidak terdapat kehadiran data pencilan karena **nilai skew** masih dalam batas normal."
      ]
    },
    {
      "cell_type": "markdown",
      "metadata": {
        "id": "RUA5AUd-Mne1"
      },
      "source": [
        "Sehingga, proses data cleaning berakhir dan didapatkan data valid untuk persentase jumlah perokok di 34 provinsi di Indonesia pada tahun 2015 dan 2016."
      ]
    },
    {
      "cell_type": "markdown",
      "metadata": {
        "id": "crg2397sM51S"
      },
      "source": [
        "##**3. Exploratory Analytics**\n",
        "\n",
        "###**Use Data Visualization**\n",
        "\n",
        "####**Multivariate Analysis**\n",
        "\n",
        "Dalam tahapan ini, kita ingin mengecek bagaimana hubungan antara jumlah persentase perokok RI di tahun 2015 dan 2016. "
      ]
    },
    {
      "cell_type": "code",
      "metadata": {
        "colab": {
          "base_uri": "https://localhost:8080/",
          "height": 235
        },
        "id": "PL8vE5foOfQ9",
        "outputId": "dcc7ff74-fed9-498b-9f42-bbf866356134"
      },
      "source": [
        "dataset.head(6)"
      ],
      "execution_count": 91,
      "outputs": [
        {
          "output_type": "execute_result",
          "data": {
            "text/html": [
              "<div>\n",
              "<style scoped>\n",
              "    .dataframe tbody tr th:only-of-type {\n",
              "        vertical-align: middle;\n",
              "    }\n",
              "\n",
              "    .dataframe tbody tr th {\n",
              "        vertical-align: top;\n",
              "    }\n",
              "\n",
              "    .dataframe thead th {\n",
              "        text-align: right;\n",
              "    }\n",
              "</style>\n",
              "<table border=\"1\" class=\"dataframe\">\n",
              "  <thead>\n",
              "    <tr style=\"text-align: right;\">\n",
              "      <th></th>\n",
              "      <th>Provinsi</th>\n",
              "      <th>2015</th>\n",
              "      <th>2016</th>\n",
              "    </tr>\n",
              "  </thead>\n",
              "  <tbody>\n",
              "    <tr>\n",
              "      <th>0</th>\n",
              "      <td>ACEH</td>\n",
              "      <td>29.82</td>\n",
              "      <td>28.16</td>\n",
              "    </tr>\n",
              "    <tr>\n",
              "      <th>1</th>\n",
              "      <td>SUMATERA UTARA</td>\n",
              "      <td>29.15</td>\n",
              "      <td>27.88</td>\n",
              "    </tr>\n",
              "    <tr>\n",
              "      <th>2</th>\n",
              "      <td>SUMATERA BARAT</td>\n",
              "      <td>32.41</td>\n",
              "      <td>30.59</td>\n",
              "    </tr>\n",
              "    <tr>\n",
              "      <th>3</th>\n",
              "      <td>RIAU</td>\n",
              "      <td>31.21</td>\n",
              "      <td>29.61</td>\n",
              "    </tr>\n",
              "    <tr>\n",
              "      <th>4</th>\n",
              "      <td>JAMBI</td>\n",
              "      <td>30.82</td>\n",
              "      <td>29.18</td>\n",
              "    </tr>\n",
              "    <tr>\n",
              "      <th>5</th>\n",
              "      <td>SUMATERA SELATAN</td>\n",
              "      <td>33.13</td>\n",
              "      <td>31.57</td>\n",
              "    </tr>\n",
              "  </tbody>\n",
              "</table>\n",
              "</div>"
            ],
            "text/plain": [
              "           Provinsi   2015   2016\n",
              "0              ACEH  29.82  28.16\n",
              "1    SUMATERA UTARA  29.15  27.88\n",
              "2    SUMATERA BARAT  32.41  30.59\n",
              "3              RIAU  31.21  29.61\n",
              "4             JAMBI  30.82  29.18\n",
              "5  SUMATERA SELATAN  33.13  31.57"
            ]
          },
          "metadata": {},
          "execution_count": 91
        }
      ]
    },
    {
      "cell_type": "code",
      "metadata": {
        "colab": {
          "base_uri": "https://localhost:8080/"
        },
        "id": "JeJYEvGzOkJy",
        "outputId": "289b7c5b-1664-460f-952b-4e1509987341"
      },
      "source": [
        "dataset.columns"
      ],
      "execution_count": 26,
      "outputs": [
        {
          "output_type": "execute_result",
          "data": {
            "text/plain": [
              "Index(['Provinsi', '2015', '2016'], dtype='object')"
            ]
          },
          "metadata": {},
          "execution_count": 26
        }
      ]
    },
    {
      "cell_type": "code",
      "metadata": {
        "colab": {
          "base_uri": "https://localhost:8080/",
          "height": 458
        },
        "id": "iIulUG_zXT1D",
        "outputId": "80762373-116e-4cdb-a8b3-41921907d838"
      },
      "source": [
        "# Declaring the figure or the plot (y, x) or (width, height)\n",
        "plt.figure(figsize = (15,7))\n",
        "# Categorical data: Province names\n",
        "province = dataset['Provinsi']\n",
        "# Integer value interms of percentage counts\n",
        "persentase1 = dataset['2015'].head(6)\n",
        "persentase2 = dataset['2016'].head(6)\n",
        "# Using numpy to group 3 different data with bars\n",
        "X = np.arange(len(persentase1))\n",
        "# Passing the parameters to the bar function, this is the main function which creates the bar plot\n",
        "# Using X now to align the bars side by side\n",
        "plt.bar(X, persentase1, color = 'yellow', width = 0.25, edgecolor = 'green')\n",
        "plt.bar(X + 0.25, persentase2, color = 'blue', width = 0.25, edgecolor = 'green')\n",
        "# Creating the legend of the bars in the plot\n",
        "plt.legend(['2015', '2016'])\n",
        "# Overiding the x axis with the country names\n",
        "plt.xticks([i + 0.25 for i in range(6)], province)\n",
        "# Giving the tilte for the plot\n",
        "plt.title(\"Bar plot representing the total percentage of smoker in Indonesia on 2015 - 2016\")\n",
        "# Namimg the x and y axis\n",
        "plt.xlabel('Provinsi')\n",
        "plt.ylabel('Persentase')\n",
        "# Saving the plot as a 'png'\n",
        "plt.savefig('4BarPlot.png')\n",
        "# Displaying the bar plot\n",
        "plt.show()"
      ],
      "execution_count": 92,
      "outputs": [
        {
          "output_type": "display_data",
          "data": {
            "image/png": "[encoded data removed]",
            "text/plain": [
              "<Figure size 1080x504 with 1 Axes>"
            ]
          },
          "metadata": {
            "needs_background": "light"
          }
        }
      ]
    },
    {
      "cell_type": "markdown",
      "metadata": {
        "id": "pOkuH6kEcpA4"
      },
      "source": [
        "##**Kesimpulan**"
      ]
    },
    {
      "cell_type": "markdown",
      "metadata": {
        "id": "pyQCOgTucuKn"
      },
      "source": [
        "Berdasarkan grafik bar plot diatas, disimpulkan bahwa keenam provinsi (Aceh, Sumatera Utara, Sumatera Barat, Riau, Jambi dan Sumatera Selatan) di Indonesia mengalami penurunan jumlah persentase perokok di  tahun 2016 jika dibandingkan dengan tahun sebelumnya.\n",
        "\n",
        "Hal tersebut dikarenakan sudah mulai kesadaran akan bahaya rokok sendiri di masyarakat serta adanya penetapan pajak rokok untuk pendanaan pelayanan kesehatan masyarakat yang ditetapkan oleh Menteri Kesehatan pada Permenkes Nomor 40 Tahun 2016 tentang Petunjuk Teknis Penggunaaan Pajak Rokok Untuk Pendanaan Pelayanan Kesehatan Masyarakat, sebagai upaya untuk menurunkan jumlah perokok di Indonesia."
      ]
    }
  ]
}